{
 "cells": [
  {
   "cell_type": "markdown",
   "metadata": {},
   "source": [
    "Problem Statement                                                                                                             \n",
    "Football (Soccer) in the modern times has become much complicated, then it ever was. For clubs all around the world, it’s \n",
    "not just about playing your heart out in the field, but also perform well in the transfer markets, to snap up the right talent \n",
    "and players for their sides, at the right price. Over the past few years, we have observed a serious inflation in player values \n",
    "and some exuberant release clauses (price inserted in a player’s contract with his/her current club for which he/she can be \n",
    "bought by another club). As a result of this, a many clubs end up paying a lot more for a player whose talent and performances \n",
    "on the field fail to justify his/her price tag. A similar problem is faced by the club selling a player, where they fail to \n",
    "realize his/her potential, and let him/her go for a price which was way less than the actual price they should have asked for. \n",
    "We shall try to solve this as a regression problem using Machine Learning. We will be making use of the linear regression model \n",
    "to predict a player’s value based on his/her skill and personality attributes."
   ]
  },
  {
   "cell_type": "code",
   "execution_count": 1,
   "metadata": {},
   "outputs": [],
   "source": [
    "# importing libraries\n",
    "\n",
    "import pandas as pd\n",
    "import numpy as np\n",
    "import matplotlib.pyplot as plt\n",
    "import seaborn as sns\n",
    "%matplotlib inline\n",
    "import warnings\n",
    "warnings.filterwarnings('ignore')"
   ]
  },
  {
   "cell_type": "code",
   "execution_count": 2,
   "metadata": {},
   "outputs": [],
   "source": [
    "# reading the csv\n",
    "fifa = pd.read_csv('players_21.csv')"
   ]
  },
  {
   "cell_type": "code",
   "execution_count": 3,
   "metadata": {
    "scrolled": true
   },
   "outputs": [
    {
     "data": {
      "text/html": [
       "<div>\n",
       "<style scoped>\n",
       "    .dataframe tbody tr th:only-of-type {\n",
       "        vertical-align: middle;\n",
       "    }\n",
       "\n",
       "    .dataframe tbody tr th {\n",
       "        vertical-align: top;\n",
       "    }\n",
       "\n",
       "    .dataframe thead th {\n",
       "        text-align: right;\n",
       "    }\n",
       "</style>\n",
       "<table border=\"1\" class=\"dataframe\">\n",
       "  <thead>\n",
       "    <tr style=\"text-align: right;\">\n",
       "      <th></th>\n",
       "      <th>sofifa_id</th>\n",
       "      <th>player_url</th>\n",
       "      <th>short_name</th>\n",
       "      <th>long_name</th>\n",
       "      <th>age</th>\n",
       "      <th>dob</th>\n",
       "      <th>height_cm</th>\n",
       "      <th>weight_kg</th>\n",
       "      <th>nationality</th>\n",
       "      <th>club_name</th>\n",
       "      <th>...</th>\n",
       "      <th>lwb</th>\n",
       "      <th>ldm</th>\n",
       "      <th>cdm</th>\n",
       "      <th>rdm</th>\n",
       "      <th>rwb</th>\n",
       "      <th>lb</th>\n",
       "      <th>lcb</th>\n",
       "      <th>cb</th>\n",
       "      <th>rcb</th>\n",
       "      <th>rb</th>\n",
       "    </tr>\n",
       "  </thead>\n",
       "  <tbody>\n",
       "    <tr>\n",
       "      <th>0</th>\n",
       "      <td>158023</td>\n",
       "      <td>https://sofifa.com/player/158023/lionel-messi/...</td>\n",
       "      <td>L. Messi</td>\n",
       "      <td>Lionel Andrés Messi Cuccittini</td>\n",
       "      <td>33</td>\n",
       "      <td>1987-06-24</td>\n",
       "      <td>170</td>\n",
       "      <td>72</td>\n",
       "      <td>Argentina</td>\n",
       "      <td>FC Barcelona</td>\n",
       "      <td>...</td>\n",
       "      <td>66+3</td>\n",
       "      <td>65+3</td>\n",
       "      <td>65+3</td>\n",
       "      <td>65+3</td>\n",
       "      <td>66+3</td>\n",
       "      <td>62+3</td>\n",
       "      <td>52+3</td>\n",
       "      <td>52+3</td>\n",
       "      <td>52+3</td>\n",
       "      <td>62+3</td>\n",
       "    </tr>\n",
       "    <tr>\n",
       "      <th>1</th>\n",
       "      <td>20801</td>\n",
       "      <td>https://sofifa.com/player/20801/c-ronaldo-dos-...</td>\n",
       "      <td>Cristiano Ronaldo</td>\n",
       "      <td>Cristiano Ronaldo dos Santos Aveiro</td>\n",
       "      <td>35</td>\n",
       "      <td>1985-02-05</td>\n",
       "      <td>187</td>\n",
       "      <td>83</td>\n",
       "      <td>Portugal</td>\n",
       "      <td>Juventus</td>\n",
       "      <td>...</td>\n",
       "      <td>65+3</td>\n",
       "      <td>61+3</td>\n",
       "      <td>61+3</td>\n",
       "      <td>61+3</td>\n",
       "      <td>65+3</td>\n",
       "      <td>61+3</td>\n",
       "      <td>54+3</td>\n",
       "      <td>54+3</td>\n",
       "      <td>54+3</td>\n",
       "      <td>61+3</td>\n",
       "    </tr>\n",
       "    <tr>\n",
       "      <th>2</th>\n",
       "      <td>200389</td>\n",
       "      <td>https://sofifa.com/player/200389/jan-oblak/210002</td>\n",
       "      <td>J. Oblak</td>\n",
       "      <td>Jan Oblak</td>\n",
       "      <td>27</td>\n",
       "      <td>1993-01-07</td>\n",
       "      <td>188</td>\n",
       "      <td>87</td>\n",
       "      <td>Slovenia</td>\n",
       "      <td>Atlético Madrid</td>\n",
       "      <td>...</td>\n",
       "      <td>32+3</td>\n",
       "      <td>36+3</td>\n",
       "      <td>36+3</td>\n",
       "      <td>36+3</td>\n",
       "      <td>32+3</td>\n",
       "      <td>32+3</td>\n",
       "      <td>33+3</td>\n",
       "      <td>33+3</td>\n",
       "      <td>33+3</td>\n",
       "      <td>32+3</td>\n",
       "    </tr>\n",
       "    <tr>\n",
       "      <th>3</th>\n",
       "      <td>188545</td>\n",
       "      <td>https://sofifa.com/player/188545/robert-lewand...</td>\n",
       "      <td>R. Lewandowski</td>\n",
       "      <td>Robert Lewandowski</td>\n",
       "      <td>31</td>\n",
       "      <td>1988-08-21</td>\n",
       "      <td>184</td>\n",
       "      <td>80</td>\n",
       "      <td>Poland</td>\n",
       "      <td>FC Bayern München</td>\n",
       "      <td>...</td>\n",
       "      <td>64+3</td>\n",
       "      <td>65+3</td>\n",
       "      <td>65+3</td>\n",
       "      <td>65+3</td>\n",
       "      <td>64+3</td>\n",
       "      <td>61+3</td>\n",
       "      <td>60+3</td>\n",
       "      <td>60+3</td>\n",
       "      <td>60+3</td>\n",
       "      <td>61+3</td>\n",
       "    </tr>\n",
       "    <tr>\n",
       "      <th>4</th>\n",
       "      <td>190871</td>\n",
       "      <td>https://sofifa.com/player/190871/neymar-da-sil...</td>\n",
       "      <td>Neymar Jr</td>\n",
       "      <td>Neymar da Silva Santos Júnior</td>\n",
       "      <td>28</td>\n",
       "      <td>1992-02-05</td>\n",
       "      <td>175</td>\n",
       "      <td>68</td>\n",
       "      <td>Brazil</td>\n",
       "      <td>Paris Saint-Germain</td>\n",
       "      <td>...</td>\n",
       "      <td>67+3</td>\n",
       "      <td>62+3</td>\n",
       "      <td>62+3</td>\n",
       "      <td>62+3</td>\n",
       "      <td>67+3</td>\n",
       "      <td>62+3</td>\n",
       "      <td>49+3</td>\n",
       "      <td>49+3</td>\n",
       "      <td>49+3</td>\n",
       "      <td>62+3</td>\n",
       "    </tr>\n",
       "    <tr>\n",
       "      <th>...</th>\n",
       "      <td>...</td>\n",
       "      <td>...</td>\n",
       "      <td>...</td>\n",
       "      <td>...</td>\n",
       "      <td>...</td>\n",
       "      <td>...</td>\n",
       "      <td>...</td>\n",
       "      <td>...</td>\n",
       "      <td>...</td>\n",
       "      <td>...</td>\n",
       "      <td>...</td>\n",
       "      <td>...</td>\n",
       "      <td>...</td>\n",
       "      <td>...</td>\n",
       "      <td>...</td>\n",
       "      <td>...</td>\n",
       "      <td>...</td>\n",
       "      <td>...</td>\n",
       "      <td>...</td>\n",
       "      <td>...</td>\n",
       "      <td>...</td>\n",
       "    </tr>\n",
       "    <tr>\n",
       "      <th>18939</th>\n",
       "      <td>256679</td>\n",
       "      <td>https://sofifa.com/player/256679/kevin-angulo/...</td>\n",
       "      <td>K. Angulo</td>\n",
       "      <td>Kevin Angulo</td>\n",
       "      <td>24</td>\n",
       "      <td>1996-04-13</td>\n",
       "      <td>176</td>\n",
       "      <td>73</td>\n",
       "      <td>Colombia</td>\n",
       "      <td>América de Cali</td>\n",
       "      <td>...</td>\n",
       "      <td>47+2</td>\n",
       "      <td>47+2</td>\n",
       "      <td>47+2</td>\n",
       "      <td>47+2</td>\n",
       "      <td>47+2</td>\n",
       "      <td>47+2</td>\n",
       "      <td>46+2</td>\n",
       "      <td>46+2</td>\n",
       "      <td>46+2</td>\n",
       "      <td>47+2</td>\n",
       "    </tr>\n",
       "    <tr>\n",
       "      <th>18940</th>\n",
       "      <td>257710</td>\n",
       "      <td>https://sofifa.com/player/257710/mengxuan-zhan...</td>\n",
       "      <td>Zhang Mengxuan</td>\n",
       "      <td>Mengxuan Zhang</td>\n",
       "      <td>21</td>\n",
       "      <td>1999-04-26</td>\n",
       "      <td>177</td>\n",
       "      <td>70</td>\n",
       "      <td>China PR</td>\n",
       "      <td>Chongqing Dangdai Lifan FC SWM Team</td>\n",
       "      <td>...</td>\n",
       "      <td>42+2</td>\n",
       "      <td>41+2</td>\n",
       "      <td>41+2</td>\n",
       "      <td>41+2</td>\n",
       "      <td>42+2</td>\n",
       "      <td>45+2</td>\n",
       "      <td>47+2</td>\n",
       "      <td>47+2</td>\n",
       "      <td>47+2</td>\n",
       "      <td>45+2</td>\n",
       "    </tr>\n",
       "    <tr>\n",
       "      <th>18941</th>\n",
       "      <td>250989</td>\n",
       "      <td>https://sofifa.com/player/250989/zhenghao-wang...</td>\n",
       "      <td>Wang Zhenghao</td>\n",
       "      <td>王政豪</td>\n",
       "      <td>20</td>\n",
       "      <td>2000-06-28</td>\n",
       "      <td>185</td>\n",
       "      <td>74</td>\n",
       "      <td>China PR</td>\n",
       "      <td>Tianjin TEDA FC</td>\n",
       "      <td>...</td>\n",
       "      <td>42+2</td>\n",
       "      <td>42+2</td>\n",
       "      <td>42+2</td>\n",
       "      <td>42+2</td>\n",
       "      <td>42+2</td>\n",
       "      <td>44+2</td>\n",
       "      <td>47+2</td>\n",
       "      <td>47+2</td>\n",
       "      <td>47+2</td>\n",
       "      <td>44+2</td>\n",
       "    </tr>\n",
       "    <tr>\n",
       "      <th>18942</th>\n",
       "      <td>257697</td>\n",
       "      <td>https://sofifa.com/player/257697/zitong-chen/2...</td>\n",
       "      <td>Chen Zitong</td>\n",
       "      <td>Zitong Chen</td>\n",
       "      <td>23</td>\n",
       "      <td>1997-02-20</td>\n",
       "      <td>186</td>\n",
       "      <td>80</td>\n",
       "      <td>China PR</td>\n",
       "      <td>Shijiazhuang Ever Bright F.C.</td>\n",
       "      <td>...</td>\n",
       "      <td>47+2</td>\n",
       "      <td>49+2</td>\n",
       "      <td>49+2</td>\n",
       "      <td>49+2</td>\n",
       "      <td>47+2</td>\n",
       "      <td>47+2</td>\n",
       "      <td>49+2</td>\n",
       "      <td>49+2</td>\n",
       "      <td>49+2</td>\n",
       "      <td>47+2</td>\n",
       "    </tr>\n",
       "    <tr>\n",
       "      <th>18943</th>\n",
       "      <td>257936</td>\n",
       "      <td>https://sofifa.com/player/257936/yue-song/210002</td>\n",
       "      <td>Song Yue</td>\n",
       "      <td>Yue Song</td>\n",
       "      <td>28</td>\n",
       "      <td>1991-11-20</td>\n",
       "      <td>185</td>\n",
       "      <td>79</td>\n",
       "      <td>China PR</td>\n",
       "      <td>Tianjin TEDA FC</td>\n",
       "      <td>...</td>\n",
       "      <td>47+0</td>\n",
       "      <td>47+0</td>\n",
       "      <td>47+0</td>\n",
       "      <td>47+0</td>\n",
       "      <td>47+0</td>\n",
       "      <td>47+0</td>\n",
       "      <td>46+1</td>\n",
       "      <td>46+1</td>\n",
       "      <td>46+1</td>\n",
       "      <td>47+0</td>\n",
       "    </tr>\n",
       "  </tbody>\n",
       "</table>\n",
       "<p>18944 rows × 106 columns</p>\n",
       "</div>"
      ],
      "text/plain": [
       "       sofifa_id                                         player_url  \\\n",
       "0         158023  https://sofifa.com/player/158023/lionel-messi/...   \n",
       "1          20801  https://sofifa.com/player/20801/c-ronaldo-dos-...   \n",
       "2         200389  https://sofifa.com/player/200389/jan-oblak/210002   \n",
       "3         188545  https://sofifa.com/player/188545/robert-lewand...   \n",
       "4         190871  https://sofifa.com/player/190871/neymar-da-sil...   \n",
       "...          ...                                                ...   \n",
       "18939     256679  https://sofifa.com/player/256679/kevin-angulo/...   \n",
       "18940     257710  https://sofifa.com/player/257710/mengxuan-zhan...   \n",
       "18941     250989  https://sofifa.com/player/250989/zhenghao-wang...   \n",
       "18942     257697  https://sofifa.com/player/257697/zitong-chen/2...   \n",
       "18943     257936   https://sofifa.com/player/257936/yue-song/210002   \n",
       "\n",
       "              short_name                            long_name  age  \\\n",
       "0               L. Messi       Lionel Andrés Messi Cuccittini   33   \n",
       "1      Cristiano Ronaldo  Cristiano Ronaldo dos Santos Aveiro   35   \n",
       "2               J. Oblak                            Jan Oblak   27   \n",
       "3         R. Lewandowski                   Robert Lewandowski   31   \n",
       "4              Neymar Jr        Neymar da Silva Santos Júnior   28   \n",
       "...                  ...                                  ...  ...   \n",
       "18939          K. Angulo                         Kevin Angulo   24   \n",
       "18940     Zhang Mengxuan                       Mengxuan Zhang   21   \n",
       "18941      Wang Zhenghao                                  王政豪   20   \n",
       "18942        Chen Zitong                          Zitong Chen   23   \n",
       "18943           Song Yue                             Yue Song   28   \n",
       "\n",
       "              dob  height_cm  weight_kg nationality  \\\n",
       "0      1987-06-24        170         72   Argentina   \n",
       "1      1985-02-05        187         83    Portugal   \n",
       "2      1993-01-07        188         87    Slovenia   \n",
       "3      1988-08-21        184         80      Poland   \n",
       "4      1992-02-05        175         68      Brazil   \n",
       "...           ...        ...        ...         ...   \n",
       "18939  1996-04-13        176         73    Colombia   \n",
       "18940  1999-04-26        177         70    China PR   \n",
       "18941  2000-06-28        185         74    China PR   \n",
       "18942  1997-02-20        186         80    China PR   \n",
       "18943  1991-11-20        185         79    China PR   \n",
       "\n",
       "                                 club_name  ...   lwb   ldm   cdm   rdm   rwb  \\\n",
       "0                             FC Barcelona  ...  66+3  65+3  65+3  65+3  66+3   \n",
       "1                                 Juventus  ...  65+3  61+3  61+3  61+3  65+3   \n",
       "2                          Atlético Madrid  ...  32+3  36+3  36+3  36+3  32+3   \n",
       "3                        FC Bayern München  ...  64+3  65+3  65+3  65+3  64+3   \n",
       "4                      Paris Saint-Germain  ...  67+3  62+3  62+3  62+3  67+3   \n",
       "...                                    ...  ...   ...   ...   ...   ...   ...   \n",
       "18939                      América de Cali  ...  47+2  47+2  47+2  47+2  47+2   \n",
       "18940  Chongqing Dangdai Lifan FC SWM Team  ...  42+2  41+2  41+2  41+2  42+2   \n",
       "18941                      Tianjin TEDA FC  ...  42+2  42+2  42+2  42+2  42+2   \n",
       "18942        Shijiazhuang Ever Bright F.C.  ...  47+2  49+2  49+2  49+2  47+2   \n",
       "18943                      Tianjin TEDA FC  ...  47+0  47+0  47+0  47+0  47+0   \n",
       "\n",
       "         lb   lcb    cb   rcb    rb  \n",
       "0      62+3  52+3  52+3  52+3  62+3  \n",
       "1      61+3  54+3  54+3  54+3  61+3  \n",
       "2      32+3  33+3  33+3  33+3  32+3  \n",
       "3      61+3  60+3  60+3  60+3  61+3  \n",
       "4      62+3  49+3  49+3  49+3  62+3  \n",
       "...     ...   ...   ...   ...   ...  \n",
       "18939  47+2  46+2  46+2  46+2  47+2  \n",
       "18940  45+2  47+2  47+2  47+2  45+2  \n",
       "18941  44+2  47+2  47+2  47+2  44+2  \n",
       "18942  47+2  49+2  49+2  49+2  47+2  \n",
       "18943  47+0  46+1  46+1  46+1  47+0  \n",
       "\n",
       "[18944 rows x 106 columns]"
      ]
     },
     "execution_count": 3,
     "metadata": {},
     "output_type": "execute_result"
    }
   ],
   "source": [
    "fifa"
   ]
  },
  {
   "cell_type": "code",
   "execution_count": 4,
   "metadata": {},
   "outputs": [
    {
     "data": {
      "text/plain": [
       "(18944, 106)"
      ]
     },
     "execution_count": 4,
     "metadata": {},
     "output_type": "execute_result"
    }
   ],
   "source": [
    "fifa.shape"
   ]
  },
  {
   "cell_type": "code",
   "execution_count": 5,
   "metadata": {},
   "outputs": [
    {
     "data": {
      "text/plain": [
       "['sofifa_id',\n",
       " 'player_url',\n",
       " 'short_name',\n",
       " 'long_name',\n",
       " 'age',\n",
       " 'dob',\n",
       " 'height_cm',\n",
       " 'weight_kg',\n",
       " 'nationality',\n",
       " 'club_name',\n",
       " 'league_name',\n",
       " 'league_rank',\n",
       " 'overall',\n",
       " 'potential',\n",
       " 'value_eur',\n",
       " 'wage_eur',\n",
       " 'player_positions',\n",
       " 'preferred_foot',\n",
       " 'international_reputation',\n",
       " 'weak_foot',\n",
       " 'skill_moves',\n",
       " 'work_rate',\n",
       " 'body_type',\n",
       " 'real_face',\n",
       " 'release_clause_eur',\n",
       " 'player_tags',\n",
       " 'team_position',\n",
       " 'team_jersey_number',\n",
       " 'loaned_from',\n",
       " 'joined',\n",
       " 'contract_valid_until',\n",
       " 'nation_position',\n",
       " 'nation_jersey_number',\n",
       " 'pace',\n",
       " 'shooting',\n",
       " 'passing',\n",
       " 'dribbling',\n",
       " 'defending',\n",
       " 'physic',\n",
       " 'gk_diving',\n",
       " 'gk_handling',\n",
       " 'gk_kicking',\n",
       " 'gk_reflexes',\n",
       " 'gk_speed',\n",
       " 'gk_positioning',\n",
       " 'player_traits',\n",
       " 'attacking_crossing',\n",
       " 'attacking_finishing',\n",
       " 'attacking_heading_accuracy',\n",
       " 'attacking_short_passing',\n",
       " 'attacking_volleys',\n",
       " 'skill_dribbling',\n",
       " 'skill_curve',\n",
       " 'skill_fk_accuracy',\n",
       " 'skill_long_passing',\n",
       " 'skill_ball_control',\n",
       " 'movement_acceleration',\n",
       " 'movement_sprint_speed',\n",
       " 'movement_agility',\n",
       " 'movement_reactions',\n",
       " 'movement_balance',\n",
       " 'power_shot_power',\n",
       " 'power_jumping',\n",
       " 'power_stamina',\n",
       " 'power_strength',\n",
       " 'power_long_shots',\n",
       " 'mentality_aggression',\n",
       " 'mentality_interceptions',\n",
       " 'mentality_positioning',\n",
       " 'mentality_vision',\n",
       " 'mentality_penalties',\n",
       " 'mentality_composure',\n",
       " 'defending_marking',\n",
       " 'defending_standing_tackle',\n",
       " 'defending_sliding_tackle',\n",
       " 'goalkeeping_diving',\n",
       " 'goalkeeping_handling',\n",
       " 'goalkeeping_kicking',\n",
       " 'goalkeeping_positioning',\n",
       " 'goalkeeping_reflexes',\n",
       " 'ls',\n",
       " 'st',\n",
       " 'rs',\n",
       " 'lw',\n",
       " 'lf',\n",
       " 'cf',\n",
       " 'rf',\n",
       " 'rw',\n",
       " 'lam',\n",
       " 'cam',\n",
       " 'ram',\n",
       " 'lm',\n",
       " 'lcm',\n",
       " 'cm',\n",
       " 'rcm',\n",
       " 'rm',\n",
       " 'lwb',\n",
       " 'ldm',\n",
       " 'cdm',\n",
       " 'rdm',\n",
       " 'rwb',\n",
       " 'lb',\n",
       " 'lcb',\n",
       " 'cb',\n",
       " 'rcb',\n",
       " 'rb']"
      ]
     },
     "execution_count": 5,
     "metadata": {},
     "output_type": "execute_result"
    }
   ],
   "source": [
    "# checking column names\n",
    "features = list(fifa.columns)\n",
    "features"
   ]
  },
  {
   "cell_type": "code",
   "execution_count": 6,
   "metadata": {},
   "outputs": [
    {
     "data": {
      "text/plain": [
       "club_name                 225\n",
       "league_name               225\n",
       "league_rank               225\n",
       "release_clause_eur        995\n",
       "player_tags             17536\n",
       "team_position             225\n",
       "team_jersey_number        225\n",
       "loaned_from             18186\n",
       "joined                    983\n",
       "contract_valid_until      225\n",
       "nation_position         17817\n",
       "nation_jersey_number    17817\n",
       "pace                     2083\n",
       "shooting                 2083\n",
       "passing                  2083\n",
       "dribbling                2083\n",
       "defending                2083\n",
       "physic                   2083\n",
       "gk_diving               16861\n",
       "gk_handling             16861\n",
       "gk_kicking              16861\n",
       "gk_reflexes             16861\n",
       "gk_speed                16861\n",
       "gk_positioning          16861\n",
       "player_traits           10629\n",
       "defending_marking       18944\n",
       "dtype: int64"
      ]
     },
     "execution_count": 6,
     "metadata": {},
     "output_type": "execute_result"
    }
   ],
   "source": [
    "# checking null values in each columns\n",
    "null_columns=fifa.columns[fifa.isnull().any()]\n",
    "fifa[null_columns].isnull().sum()"
   ]
  },
  {
   "cell_type": "code",
   "execution_count": 7,
   "metadata": {},
   "outputs": [
    {
     "data": {
      "text/plain": [
       "<AxesSubplot:>"
      ]
     },
     "execution_count": 7,
     "metadata": {},
     "output_type": "execute_result"
    },
    {
     "data": {
      "image/png": "[encoded data removed]",
      "text/plain": [
       "<Figure size 1224x576 with 1 Axes>"
      ]
     },
     "metadata": {
      "needs_background": "light"
     },
     "output_type": "display_data"
    }
   ],
   "source": [
    "plt.figure(figsize=(17,8))\n",
    "sns.heatmap(fifa.isnull(),yticklabels=False,cbar=False,cmap='viridis')"
   ]
  },
  {
   "cell_type": "markdown",
   "metadata": {},
   "source": [
    "# Data Cleaning"
   ]
  },
  {
   "cell_type": "markdown",
   "metadata": {},
   "source": [
    ">Droping rows where club_name, league_name and league_rank is null as these players will have very less effect on our analysis"
   ]
  },
  {
   "cell_type": "code",
   "execution_count": 8,
   "metadata": {},
   "outputs": [],
   "source": [
    "fifa_1 = fifa.dropna(subset=['club_name'])"
   ]
  },
  {
   "cell_type": "code",
   "execution_count": 9,
   "metadata": {
    "scrolled": true
   },
   "outputs": [
    {
     "data": {
      "text/plain": [
       "release_clause_eur        770\n",
       "player_tags             17334\n",
       "loaned_from             17961\n",
       "joined                    758\n",
       "nation_position         17817\n",
       "nation_jersey_number    17817\n",
       "pace                     2053\n",
       "shooting                 2053\n",
       "passing                  2053\n",
       "dribbling                2053\n",
       "defending                2053\n",
       "physic                   2053\n",
       "gk_diving               16666\n",
       "gk_handling             16666\n",
       "gk_kicking              16666\n",
       "gk_reflexes             16666\n",
       "gk_speed                16666\n",
       "gk_positioning          16666\n",
       "player_traits           10533\n",
       "defending_marking       18719\n",
       "dtype: int64"
      ]
     },
     "execution_count": 9,
     "metadata": {},
     "output_type": "execute_result"
    }
   ],
   "source": [
    "null_columns=fifa_1.columns[fifa_1.isnull().any()]\n",
    "fifa_1[null_columns].isnull().sum()"
   ]
  },
  {
   "cell_type": "markdown",
   "metadata": {},
   "source": [
    ">For the loaned_from column, we will create another column, loaned_status. Instead of blank values and the club names the player are loaned to, we will use 0 for not loaned and 1 for loaned."
   ]
  },
  {
   "cell_type": "code",
   "execution_count": 10,
   "metadata": {},
   "outputs": [],
   "source": [
    "fifa_1['loaned_status'] = fifa_1['loaned_from'].fillna('').apply(lambda x:0 if x == '' else 1)"
   ]
  },
  {
   "cell_type": "code",
   "execution_count": 11,
   "metadata": {},
   "outputs": [
    {
     "data": {
      "text/plain": [
       "['sofifa_id',\n",
       " 'player_url',\n",
       " 'short_name',\n",
       " 'long_name',\n",
       " 'age',\n",
       " 'dob',\n",
       " 'height_cm',\n",
       " 'weight_kg',\n",
       " 'nationality',\n",
       " 'club_name',\n",
       " 'league_name',\n",
       " 'league_rank',\n",
       " 'overall',\n",
       " 'potential',\n",
       " 'value_eur',\n",
       " 'wage_eur',\n",
       " 'player_positions',\n",
       " 'preferred_foot',\n",
       " 'international_reputation',\n",
       " 'weak_foot',\n",
       " 'skill_moves',\n",
       " 'work_rate',\n",
       " 'body_type',\n",
       " 'real_face',\n",
       " 'release_clause_eur',\n",
       " 'player_tags',\n",
       " 'team_position',\n",
       " 'team_jersey_number',\n",
       " 'loaned_from',\n",
       " 'joined',\n",
       " 'contract_valid_until',\n",
       " 'nation_position',\n",
       " 'nation_jersey_number',\n",
       " 'pace',\n",
       " 'shooting',\n",
       " 'passing',\n",
       " 'dribbling',\n",
       " 'defending',\n",
       " 'physic',\n",
       " 'gk_diving',\n",
       " 'gk_handling',\n",
       " 'gk_kicking',\n",
       " 'gk_reflexes',\n",
       " 'gk_speed',\n",
       " 'gk_positioning',\n",
       " 'player_traits',\n",
       " 'attacking_crossing',\n",
       " 'attacking_finishing',\n",
       " 'attacking_heading_accuracy',\n",
       " 'attacking_short_passing',\n",
       " 'attacking_volleys',\n",
       " 'skill_dribbling',\n",
       " 'skill_curve',\n",
       " 'skill_fk_accuracy',\n",
       " 'skill_long_passing',\n",
       " 'skill_ball_control',\n",
       " 'movement_acceleration',\n",
       " 'movement_sprint_speed',\n",
       " 'movement_agility',\n",
       " 'movement_reactions',\n",
       " 'movement_balance',\n",
       " 'power_shot_power',\n",
       " 'power_jumping',\n",
       " 'power_stamina',\n",
       " 'power_strength',\n",
       " 'power_long_shots',\n",
       " 'mentality_aggression',\n",
       " 'mentality_interceptions',\n",
       " 'mentality_positioning',\n",
       " 'mentality_vision',\n",
       " 'mentality_penalties',\n",
       " 'mentality_composure',\n",
       " 'defending_marking',\n",
       " 'defending_standing_tackle',\n",
       " 'defending_sliding_tackle',\n",
       " 'goalkeeping_diving',\n",
       " 'goalkeeping_handling',\n",
       " 'goalkeeping_kicking',\n",
       " 'goalkeeping_positioning',\n",
       " 'goalkeeping_reflexes',\n",
       " 'ls',\n",
       " 'st',\n",
       " 'rs',\n",
       " 'lw',\n",
       " 'lf',\n",
       " 'cf',\n",
       " 'rf',\n",
       " 'rw',\n",
       " 'lam',\n",
       " 'cam',\n",
       " 'ram',\n",
       " 'lm',\n",
       " 'lcm',\n",
       " 'cm',\n",
       " 'rcm',\n",
       " 'rm',\n",
       " 'lwb',\n",
       " 'ldm',\n",
       " 'cdm',\n",
       " 'rdm',\n",
       " 'rwb',\n",
       " 'lb',\n",
       " 'lcb',\n",
       " 'cb',\n",
       " 'rcb',\n",
       " 'rb',\n",
       " 'loaned_status']"
      ]
     },
     "execution_count": 11,
     "metadata": {},
     "output_type": "execute_result"
    }
   ],
   "source": [
    "features_1 = list(fifa_1.columns)\n",
    "features_1"
   ]
  },
  {
   "cell_type": "code",
   "execution_count": 12,
   "metadata": {},
   "outputs": [
    {
     "data": {
      "text/plain": [
       "<AxesSubplot:>"
      ]
     },
     "execution_count": 12,
     "metadata": {},
     "output_type": "execute_result"
    },
    {
     "data": {
      "image/png": "[encoded data removed]",
      "text/plain": [
       "<Figure size 1224x576 with 1 Axes>"
      ]
     },
     "metadata": {
      "needs_background": "light"
     },
     "output_type": "display_data"
    }
   ],
   "source": [
    "plt.figure(figsize=(17,8))\n",
    "sns.heatmap(fifa_1.isnull(),yticklabels=False,cbar=False,cmap='viridis')"
   ]
  },
  {
   "cell_type": "markdown",
   "metadata": {},
   "source": [
    ">Players that dont have a release clause in there contracts are replaced by 0 in the release_clause_eur column"
   ]
  },
  {
   "cell_type": "code",
   "execution_count": 13,
   "metadata": {
    "scrolled": true
   },
   "outputs": [],
   "source": [
    "fifa_1['release_clause_eur'] = fifa_1['release_clause_eur'].fillna('').apply(lambda x: 0 if x == '' else x)"
   ]
  },
  {
   "cell_type": "markdown",
   "metadata": {},
   "source": [
    ">Droping columns i.e. player_tags, nation_position, nation_jersey_number, player_traits, defending_marking because these columns contain a lot of null entries and are also very less relivent to our analysis "
   ]
  },
  {
   "cell_type": "code",
   "execution_count": 14,
   "metadata": {},
   "outputs": [],
   "source": [
    "fifa_1.drop(['player_tags', 'nation_position','nation_jersey_number', 'player_traits', 'defending_marking'], axis = 1, inplace=True)"
   ]
  },
  {
   "cell_type": "markdown",
   "metadata": {},
   "source": [
    ">Droping columns i.e. 'sofifa_id', 'player_url', 'long_name','dob' because these columns consists of unique entries"
   ]
  },
  {
   "cell_type": "code",
   "execution_count": 15,
   "metadata": {},
   "outputs": [],
   "source": [
    "fifa_1.drop(['sofifa_id', 'player_url', 'long_name','dob'], axis = 1, inplace=True)"
   ]
  },
  {
   "cell_type": "code",
   "execution_count": 16,
   "metadata": {},
   "outputs": [
    {
     "data": {
      "text/plain": [
       "(18719, 98)"
      ]
     },
     "execution_count": 16,
     "metadata": {},
     "output_type": "execute_result"
    }
   ],
   "source": [
    "fifa_1.shape"
   ]
  },
  {
   "cell_type": "markdown",
   "metadata": {},
   "source": [
    ">Players that are not on loan having null values in loaned_from column is replaced by 'Not on loan' in the loaned_from column"
   ]
  },
  {
   "cell_type": "code",
   "execution_count": 17,
   "metadata": {},
   "outputs": [],
   "source": [
    "fifa_1['loaned_from'] = fifa_1['loaned_from'].fillna('').apply(lambda x: 'Not on loan' if x == '' else x)"
   ]
  },
  {
   "cell_type": "code",
   "execution_count": 18,
   "metadata": {},
   "outputs": [
    {
     "data": {
      "text/plain": [
       "joined              758\n",
       "pace               2053\n",
       "shooting           2053\n",
       "passing            2053\n",
       "dribbling          2053\n",
       "defending          2053\n",
       "physic             2053\n",
       "gk_diving         16666\n",
       "gk_handling       16666\n",
       "gk_kicking        16666\n",
       "gk_reflexes       16666\n",
       "gk_speed          16666\n",
       "gk_positioning    16666\n",
       "dtype: int64"
      ]
     },
     "execution_count": 18,
     "metadata": {},
     "output_type": "execute_result"
    }
   ],
   "source": [
    "null_columns=fifa_1.columns[fifa_1.isnull().any()]\n",
    "fifa_1[null_columns].isnull().sum()"
   ]
  },
  {
   "cell_type": "markdown",
   "metadata": {},
   "source": [
    ">Players that does not have a joining date at their current club is replaced by '1/8/2017' because an average contract size in europe and latin america is 4 years, hence a 4 year prior date"
   ]
  },
  {
   "cell_type": "code",
   "execution_count": 19,
   "metadata": {
    "scrolled": false
   },
   "outputs": [],
   "source": [
    "fifa_1['joined'] = fifa_1['joined'].fillna('').apply(lambda x: '1/8/2017' if x == '' else x)"
   ]
  },
  {
   "cell_type": "markdown",
   "metadata": {},
   "source": [
    ">Cleanng the following position related columns using split on '+' and the selecting the first element from it"
   ]
  },
  {
   "cell_type": "code",
   "execution_count": 20,
   "metadata": {},
   "outputs": [],
   "source": [
    "col = ['ls','st','rs','lw','lf','cf','rf','rw','lam','cam','ram','lm','lcm','cm','rcm','rm','lwb','ldm','cdm','rdm','rwb','lb','lcb','cb','rcb','rb',]"
   ]
  },
  {
   "cell_type": "code",
   "execution_count": 21,
   "metadata": {},
   "outputs": [
    {
     "data": {
      "text/html": [
       "<div>\n",
       "<style scoped>\n",
       "    .dataframe tbody tr th:only-of-type {\n",
       "        vertical-align: middle;\n",
       "    }\n",
       "\n",
       "    .dataframe tbody tr th {\n",
       "        vertical-align: top;\n",
       "    }\n",
       "\n",
       "    .dataframe thead th {\n",
       "        text-align: right;\n",
       "    }\n",
       "</style>\n",
       "<table border=\"1\" class=\"dataframe\">\n",
       "  <thead>\n",
       "    <tr style=\"text-align: right;\">\n",
       "      <th></th>\n",
       "      <th>ls</th>\n",
       "      <th>st</th>\n",
       "      <th>rs</th>\n",
       "      <th>lw</th>\n",
       "      <th>lf</th>\n",
       "      <th>cf</th>\n",
       "      <th>rf</th>\n",
       "      <th>rw</th>\n",
       "      <th>lam</th>\n",
       "      <th>cam</th>\n",
       "      <th>...</th>\n",
       "      <th>lwb</th>\n",
       "      <th>ldm</th>\n",
       "      <th>cdm</th>\n",
       "      <th>rdm</th>\n",
       "      <th>rwb</th>\n",
       "      <th>lb</th>\n",
       "      <th>lcb</th>\n",
       "      <th>cb</th>\n",
       "      <th>rcb</th>\n",
       "      <th>rb</th>\n",
       "    </tr>\n",
       "  </thead>\n",
       "  <tbody>\n",
       "    <tr>\n",
       "      <th>0</th>\n",
       "      <td>89</td>\n",
       "      <td>89</td>\n",
       "      <td>89</td>\n",
       "      <td>92</td>\n",
       "      <td>93</td>\n",
       "      <td>93</td>\n",
       "      <td>93</td>\n",
       "      <td>92</td>\n",
       "      <td>93</td>\n",
       "      <td>93</td>\n",
       "      <td>...</td>\n",
       "      <td>66</td>\n",
       "      <td>65</td>\n",
       "      <td>65</td>\n",
       "      <td>65</td>\n",
       "      <td>66</td>\n",
       "      <td>62</td>\n",
       "      <td>52</td>\n",
       "      <td>52</td>\n",
       "      <td>52</td>\n",
       "      <td>62</td>\n",
       "    </tr>\n",
       "    <tr>\n",
       "      <th>1</th>\n",
       "      <td>91</td>\n",
       "      <td>91</td>\n",
       "      <td>91</td>\n",
       "      <td>89</td>\n",
       "      <td>91</td>\n",
       "      <td>91</td>\n",
       "      <td>91</td>\n",
       "      <td>89</td>\n",
       "      <td>88</td>\n",
       "      <td>88</td>\n",
       "      <td>...</td>\n",
       "      <td>65</td>\n",
       "      <td>61</td>\n",
       "      <td>61</td>\n",
       "      <td>61</td>\n",
       "      <td>65</td>\n",
       "      <td>61</td>\n",
       "      <td>54</td>\n",
       "      <td>54</td>\n",
       "      <td>54</td>\n",
       "      <td>61</td>\n",
       "    </tr>\n",
       "    <tr>\n",
       "      <th>2</th>\n",
       "      <td>33</td>\n",
       "      <td>33</td>\n",
       "      <td>33</td>\n",
       "      <td>32</td>\n",
       "      <td>35</td>\n",
       "      <td>35</td>\n",
       "      <td>35</td>\n",
       "      <td>32</td>\n",
       "      <td>38</td>\n",
       "      <td>38</td>\n",
       "      <td>...</td>\n",
       "      <td>32</td>\n",
       "      <td>36</td>\n",
       "      <td>36</td>\n",
       "      <td>36</td>\n",
       "      <td>32</td>\n",
       "      <td>32</td>\n",
       "      <td>33</td>\n",
       "      <td>33</td>\n",
       "      <td>33</td>\n",
       "      <td>32</td>\n",
       "    </tr>\n",
       "    <tr>\n",
       "      <th>3</th>\n",
       "      <td>89</td>\n",
       "      <td>89</td>\n",
       "      <td>89</td>\n",
       "      <td>85</td>\n",
       "      <td>87</td>\n",
       "      <td>87</td>\n",
       "      <td>87</td>\n",
       "      <td>85</td>\n",
       "      <td>85</td>\n",
       "      <td>85</td>\n",
       "      <td>...</td>\n",
       "      <td>64</td>\n",
       "      <td>65</td>\n",
       "      <td>65</td>\n",
       "      <td>65</td>\n",
       "      <td>64</td>\n",
       "      <td>61</td>\n",
       "      <td>60</td>\n",
       "      <td>60</td>\n",
       "      <td>60</td>\n",
       "      <td>61</td>\n",
       "    </tr>\n",
       "    <tr>\n",
       "      <th>4</th>\n",
       "      <td>84</td>\n",
       "      <td>84</td>\n",
       "      <td>84</td>\n",
       "      <td>90</td>\n",
       "      <td>89</td>\n",
       "      <td>89</td>\n",
       "      <td>89</td>\n",
       "      <td>90</td>\n",
       "      <td>90</td>\n",
       "      <td>90</td>\n",
       "      <td>...</td>\n",
       "      <td>67</td>\n",
       "      <td>62</td>\n",
       "      <td>62</td>\n",
       "      <td>62</td>\n",
       "      <td>67</td>\n",
       "      <td>62</td>\n",
       "      <td>49</td>\n",
       "      <td>49</td>\n",
       "      <td>49</td>\n",
       "      <td>62</td>\n",
       "    </tr>\n",
       "    <tr>\n",
       "      <th>...</th>\n",
       "      <td>...</td>\n",
       "      <td>...</td>\n",
       "      <td>...</td>\n",
       "      <td>...</td>\n",
       "      <td>...</td>\n",
       "      <td>...</td>\n",
       "      <td>...</td>\n",
       "      <td>...</td>\n",
       "      <td>...</td>\n",
       "      <td>...</td>\n",
       "      <td>...</td>\n",
       "      <td>...</td>\n",
       "      <td>...</td>\n",
       "      <td>...</td>\n",
       "      <td>...</td>\n",
       "      <td>...</td>\n",
       "      <td>...</td>\n",
       "      <td>...</td>\n",
       "      <td>...</td>\n",
       "      <td>...</td>\n",
       "      <td>...</td>\n",
       "    </tr>\n",
       "    <tr>\n",
       "      <th>18939</th>\n",
       "      <td>44</td>\n",
       "      <td>44</td>\n",
       "      <td>44</td>\n",
       "      <td>47</td>\n",
       "      <td>45</td>\n",
       "      <td>45</td>\n",
       "      <td>45</td>\n",
       "      <td>47</td>\n",
       "      <td>47</td>\n",
       "      <td>47</td>\n",
       "      <td>...</td>\n",
       "      <td>47</td>\n",
       "      <td>47</td>\n",
       "      <td>47</td>\n",
       "      <td>47</td>\n",
       "      <td>47</td>\n",
       "      <td>47</td>\n",
       "      <td>46</td>\n",
       "      <td>46</td>\n",
       "      <td>46</td>\n",
       "      <td>47</td>\n",
       "    </tr>\n",
       "    <tr>\n",
       "      <th>18940</th>\n",
       "      <td>32</td>\n",
       "      <td>32</td>\n",
       "      <td>32</td>\n",
       "      <td>30</td>\n",
       "      <td>30</td>\n",
       "      <td>30</td>\n",
       "      <td>30</td>\n",
       "      <td>30</td>\n",
       "      <td>29</td>\n",
       "      <td>29</td>\n",
       "      <td>...</td>\n",
       "      <td>42</td>\n",
       "      <td>41</td>\n",
       "      <td>41</td>\n",
       "      <td>41</td>\n",
       "      <td>42</td>\n",
       "      <td>45</td>\n",
       "      <td>47</td>\n",
       "      <td>47</td>\n",
       "      <td>47</td>\n",
       "      <td>45</td>\n",
       "    </tr>\n",
       "    <tr>\n",
       "      <th>18941</th>\n",
       "      <td>34</td>\n",
       "      <td>34</td>\n",
       "      <td>34</td>\n",
       "      <td>33</td>\n",
       "      <td>33</td>\n",
       "      <td>33</td>\n",
       "      <td>33</td>\n",
       "      <td>33</td>\n",
       "      <td>33</td>\n",
       "      <td>33</td>\n",
       "      <td>...</td>\n",
       "      <td>42</td>\n",
       "      <td>42</td>\n",
       "      <td>42</td>\n",
       "      <td>42</td>\n",
       "      <td>42</td>\n",
       "      <td>44</td>\n",
       "      <td>47</td>\n",
       "      <td>47</td>\n",
       "      <td>47</td>\n",
       "      <td>44</td>\n",
       "    </tr>\n",
       "    <tr>\n",
       "      <th>18942</th>\n",
       "      <td>44</td>\n",
       "      <td>44</td>\n",
       "      <td>44</td>\n",
       "      <td>46</td>\n",
       "      <td>45</td>\n",
       "      <td>45</td>\n",
       "      <td>45</td>\n",
       "      <td>46</td>\n",
       "      <td>47</td>\n",
       "      <td>47</td>\n",
       "      <td>...</td>\n",
       "      <td>47</td>\n",
       "      <td>49</td>\n",
       "      <td>49</td>\n",
       "      <td>49</td>\n",
       "      <td>47</td>\n",
       "      <td>47</td>\n",
       "      <td>49</td>\n",
       "      <td>49</td>\n",
       "      <td>49</td>\n",
       "      <td>47</td>\n",
       "    </tr>\n",
       "    <tr>\n",
       "      <th>18943</th>\n",
       "      <td>46</td>\n",
       "      <td>46</td>\n",
       "      <td>46</td>\n",
       "      <td>47</td>\n",
       "      <td>46</td>\n",
       "      <td>46</td>\n",
       "      <td>46</td>\n",
       "      <td>47</td>\n",
       "      <td>47</td>\n",
       "      <td>47</td>\n",
       "      <td>...</td>\n",
       "      <td>47</td>\n",
       "      <td>47</td>\n",
       "      <td>47</td>\n",
       "      <td>47</td>\n",
       "      <td>47</td>\n",
       "      <td>47</td>\n",
       "      <td>46</td>\n",
       "      <td>46</td>\n",
       "      <td>46</td>\n",
       "      <td>47</td>\n",
       "    </tr>\n",
       "  </tbody>\n",
       "</table>\n",
       "<p>18719 rows × 26 columns</p>\n",
       "</div>"
      ],
      "text/plain": [
       "       ls  st  rs  lw  lf  cf  rf  rw lam cam  ... lwb ldm cdm rdm rwb  lb  \\\n",
       "0      89  89  89  92  93  93  93  92  93  93  ...  66  65  65  65  66  62   \n",
       "1      91  91  91  89  91  91  91  89  88  88  ...  65  61  61  61  65  61   \n",
       "2      33  33  33  32  35  35  35  32  38  38  ...  32  36  36  36  32  32   \n",
       "3      89  89  89  85  87  87  87  85  85  85  ...  64  65  65  65  64  61   \n",
       "4      84  84  84  90  89  89  89  90  90  90  ...  67  62  62  62  67  62   \n",
       "...    ..  ..  ..  ..  ..  ..  ..  ..  ..  ..  ...  ..  ..  ..  ..  ..  ..   \n",
       "18939  44  44  44  47  45  45  45  47  47  47  ...  47  47  47  47  47  47   \n",
       "18940  32  32  32  30  30  30  30  30  29  29  ...  42  41  41  41  42  45   \n",
       "18941  34  34  34  33  33  33  33  33  33  33  ...  42  42  42  42  42  44   \n",
       "18942  44  44  44  46  45  45  45  46  47  47  ...  47  49  49  49  47  47   \n",
       "18943  46  46  46  47  46  46  46  47  47  47  ...  47  47  47  47  47  47   \n",
       "\n",
       "      lcb  cb rcb  rb  \n",
       "0      52  52  52  62  \n",
       "1      54  54  54  61  \n",
       "2      33  33  33  32  \n",
       "3      60  60  60  61  \n",
       "4      49  49  49  62  \n",
       "...    ..  ..  ..  ..  \n",
       "18939  46  46  46  47  \n",
       "18940  47  47  47  45  \n",
       "18941  47  47  47  44  \n",
       "18942  49  49  49  47  \n",
       "18943  46  46  46  47  \n",
       "\n",
       "[18719 rows x 26 columns]"
      ]
     },
     "execution_count": 21,
     "metadata": {},
     "output_type": "execute_result"
    }
   ],
   "source": [
    "for c in col:\n",
    "    fifa_1[c]=fifa_1[c].str.split('+',n=1,expand = True)[0]\n",
    "\n",
    "fifa_1[col]"
   ]
  },
  {
   "cell_type": "markdown",
   "metadata": {},
   "source": [
    ">Now separating our fifa_1 dataframe into goalkeepers and outfield players beacause goalkeepers performance is judged with traits which are different frok outfield players i.e. gk_diving, gk_kicking etc."
   ]
  },
  {
   "cell_type": "code",
   "execution_count": 22,
   "metadata": {},
   "outputs": [],
   "source": [
    "fifa_GK = fifa_1[fifa_1['player_positions'] == 'GK']"
   ]
  },
  {
   "cell_type": "code",
   "execution_count": 23,
   "metadata": {},
   "outputs": [
    {
     "data": {
      "text/plain": [
       "(2053, 98)"
      ]
     },
     "execution_count": 23,
     "metadata": {},
     "output_type": "execute_result"
    }
   ],
   "source": [
    "fifa_GK.shape"
   ]
  },
  {
   "cell_type": "code",
   "execution_count": 24,
   "metadata": {},
   "outputs": [],
   "source": [
    "fifa_OP = fifa_1[fifa_1['player_positions'] != 'GK']"
   ]
  },
  {
   "cell_type": "code",
   "execution_count": 25,
   "metadata": {},
   "outputs": [
    {
     "data": {
      "text/plain": [
       "(16666, 98)"
      ]
     },
     "execution_count": 25,
     "metadata": {},
     "output_type": "execute_result"
    }
   ],
   "source": [
    "fifa_OP.shape"
   ]
  },
  {
   "cell_type": "markdown",
   "metadata": {},
   "source": [
    "> Dropping the irrelevant traits from both the above mentioned dataframes as they may decrease the accuracy in our analysis"
   ]
  },
  {
   "cell_type": "code",
   "execution_count": 26,
   "metadata": {},
   "outputs": [],
   "source": [
    "fifa_OP = fifa_OP.drop(columns=['gk_diving', 'gk_handling', 'gk_kicking', 'gk_reflexes', 'gk_speed', 'gk_positioning'])"
   ]
  },
  {
   "cell_type": "code",
   "execution_count": 27,
   "metadata": {},
   "outputs": [],
   "source": [
    "fifa_OP = fifa_OP.drop(columns=['goalkeeping_diving', 'goalkeeping_handling', 'goalkeeping_kicking', 'goalkeeping_positioning', 'goalkeeping_reflexes'])"
   ]
  },
  {
   "cell_type": "code",
   "execution_count": 28,
   "metadata": {},
   "outputs": [
    {
     "data": {
      "text/plain": [
       "(16666, 87)"
      ]
     },
     "execution_count": 28,
     "metadata": {},
     "output_type": "execute_result"
    }
   ],
   "source": [
    "fifa_OP.shape"
   ]
  },
  {
   "cell_type": "code",
   "execution_count": 29,
   "metadata": {},
   "outputs": [],
   "source": [
    "fifa_GK = fifa_GK.drop(columns=['pace', 'shooting', 'passing', 'dribbling', 'defending', 'physic'])"
   ]
  },
  {
   "cell_type": "code",
   "execution_count": 30,
   "metadata": {},
   "outputs": [
    {
     "data": {
      "text/plain": [
       "(2053, 92)"
      ]
     },
     "execution_count": 30,
     "metadata": {},
     "output_type": "execute_result"
    }
   ],
   "source": [
    "fifa_GK.shape"
   ]
  },
  {
   "cell_type": "code",
   "execution_count": 31,
   "metadata": {},
   "outputs": [
    {
     "data": {
      "text/plain": [
       "<AxesSubplot:>"
      ]
     },
     "execution_count": 31,
     "metadata": {},
     "output_type": "execute_result"
    },
    {
     "data": {
      "image/png": "[encoded data removed]",
      "text/plain": [
       "<Figure size 720x288 with 1 Axes>"
      ]
     },
     "metadata": {
      "needs_background": "light"
     },
     "output_type": "display_data"
    }
   ],
   "source": [
    "plt.figure(figsize=(10,4))\n",
    "sns.heatmap(fifa_OP.isnull(),yticklabels=False,cbar=False,cmap='Greens')"
   ]
  },
  {
   "cell_type": "code",
   "execution_count": 32,
   "metadata": {},
   "outputs": [
    {
     "data": {
      "text/plain": [
       "<AxesSubplot:>"
      ]
     },
     "execution_count": 32,
     "metadata": {},
     "output_type": "execute_result"
    },
    {
     "data": {
      "image/png": "[encoded data removed]",
      "text/plain": [
       "<Figure size 720x288 with 1 Axes>"
      ]
     },
     "metadata": {
      "needs_background": "light"
     },
     "output_type": "display_data"
    }
   ],
   "source": [
    "plt.figure(figsize=(10,4))\n",
    "sns.heatmap(fifa_GK.isnull(),yticklabels=False,cbar=False,cmap='YlGnBu')"
   ]
  },
  {
   "cell_type": "markdown",
   "metadata": {},
   "source": [
    "# Exploratory Data Analysis"
   ]
  },
  {
   "cell_type": "markdown",
   "metadata": {},
   "source": [
    ">Which country players are most valuable collectively                                                              \n",
    "(Data is heavily skewed as most players in this dataset are from europian/UK and latin amerrica countries)"
   ]
  },
  {
   "cell_type": "code",
   "execution_count": 33,
   "metadata": {},
   "outputs": [
    {
     "data": {
      "text/plain": [
       "England          1685\n",
       "Germany          1189\n",
       "Spain            1072\n",
       "France            984\n",
       "Argentina         936\n",
       "Brazil            885\n",
       "Japan             489\n",
       "Netherlands       432\n",
       "Italy             421\n",
       "United States     378\n",
       "Name: nationality, dtype: int64"
      ]
     },
     "execution_count": 33,
     "metadata": {},
     "output_type": "execute_result"
    }
   ],
   "source": [
    "players = fifa_1['nationality'].value_counts().head(10)\n",
    "players"
   ]
  },
  {
   "cell_type": "code",
   "execution_count": 34,
   "metadata": {},
   "outputs": [
    {
     "data": {
      "text/plain": [
       "Text(0.5, 0, 'Total value (in millions)')"
      ]
     },
     "execution_count": 34,
     "metadata": {},
     "output_type": "execute_result"
    },
    {
     "data": {
      "image/png": "[encoded data removed]",
      "text/plain": [
       "<Figure size 864x576 with 1 Axes>"
      ]
     },
     "metadata": {
      "needs_background": "light"
     },
     "output_type": "display_data"
    }
   ],
   "source": [
    "players_grouped_country=fifa_1.groupby('nationality')['value_eur'].sum()/1e6\n",
    "players_grouped_country=players_grouped_country.sort_values(ascending=False).head(10)\n",
    "players_grouped_country.plot(kind='barh',figsize=(12,8))\n",
    "plt.xlabel(\"Total value (in millions)\")"
   ]
  },
  {
   "cell_type": "markdown",
   "metadata": {},
   "source": [
    ">Players in which age class are most valuable "
   ]
  },
  {
   "cell_type": "code",
   "execution_count": 35,
   "metadata": {},
   "outputs": [
    {
     "data": {
      "text/plain": [
       "Text(0.5, 0, 'Age')"
      ]
     },
     "execution_count": 35,
     "metadata": {},
     "output_type": "execute_result"
    },
    {
     "data": {
      "image/png": "[encoded data removed]",
      "text/plain": [
       "<Figure size 864x576 with 1 Axes>"
      ]
     },
     "metadata": {
      "needs_background": "light"
     },
     "output_type": "display_data"
    }
   ],
   "source": [
    "players_grouped_age=fifa_1.groupby('age')['value_eur'].mean()/1e6\n",
    "players_grouped_age.plot(grid=True,figsize=(12,8))\n",
    "plt.ylabel('Average value (in millions)')\n",
    "plt.xlabel('Age')"
   ]
  },
  {
   "cell_type": "markdown",
   "metadata": {},
   "source": [
    "> Top 10 players which has most potential to improve in upcoming seasons"
   ]
  },
  {
   "cell_type": "code",
   "execution_count": 36,
   "metadata": {},
   "outputs": [],
   "source": [
    "fifa_potential=fifa_1[(fifa_1.potential>85 )& (fifa_1.overall<80)]\n",
    "fifa_potential_ready=fifa_potential[(fifa_potential.overall<80)&(fifa_potential.overall>70)]\n",
    "top_10 = fifa_potential_ready.head(10)"
   ]
  },
  {
   "cell_type": "code",
   "execution_count": 37,
   "metadata": {},
   "outputs": [
    {
     "data": {
      "image/png": "[encoded data removed]",
      "text/plain": [
       "<Figure size 864x360 with 1 Axes>"
      ]
     },
     "metadata": {
      "needs_background": "light"
     },
     "output_type": "display_data"
    }
   ],
   "source": [
    "barWidth = 0.25\n",
    "fig = plt.subplots(figsize =(12, 5))\n",
    "\n",
    "br1 = np.arange(len(top_10))\n",
    "br2 = [x + barWidth for x in br1]\n",
    "\n",
    "plt.bar(br1, top_10.overall, color ='b', width = barWidth,\n",
    "        edgecolor ='grey', label ='overall')\n",
    "plt.bar(br2, top_10.potential, color ='y', width = barWidth,\n",
    "        edgecolor ='grey', label ='potential')\n",
    "\n",
    "plt.xticks([r + barWidth for r in range(len(top_10))],\n",
    "        ['D. Upamecano', 'Rodrygo', 'P. Foden', 'Wendel', 'V. Osimhen','B. Kamara', 'Dani Olmo', 'S. Berge', 'A. Isak', 'D. Rice'])\n",
    "plt.ylim([0, 110])\n",
    "plt.legend(loc ='best')\n",
    "plt.show()"
   ]
  },
  {
   "cell_type": "markdown",
   "metadata": {},
   "source": [
    "> Top 10 clubs with highest average overall ratings (clubs contains players with high overall scores)"
   ]
  },
  {
   "cell_type": "code",
   "execution_count": 38,
   "metadata": {},
   "outputs": [
    {
     "data": {
      "image/png": "[encoded data removed]",
      "text/plain": [
       "<Figure size 864x504 with 1 Axes>"
      ]
     },
     "metadata": {
      "needs_background": "light"
     },
     "output_type": "display_data"
    }
   ],
   "source": [
    "fig = plt.subplots(figsize =(12, 7))\n",
    "top_clubs = fifa_1.groupby(['club_name']).overall.mean().sort_values(ascending  = False).head(10)\n",
    "plt.title(\"Top 20 Clubs in FIFA20\")\n",
    "sns.barplot(y = top_clubs.index, x = top_clubs)\n",
    "for index, value in enumerate(top_clubs):\n",
    "    plt.text(value//2, index, str(round(value,2)))"
   ]
  },
  {
   "cell_type": "markdown",
   "metadata": {},
   "source": [
    "### Conclusions from EDA\n",
    "#### - Highest numbers of players in FIFA21 dataset are from England, Germany and Spain respectively\n",
    "#### - Players from spanish nationality combined has the highest monetary value\n",
    "#### - Players between the age of 25 and 30 has the higher monetary value as compared to other age groups\n",
    "#### - D. Upamecano (fc bayern munich), Rodrygo (Real Madrid), P. Foden (Mancherter City) have the highest potential to be better players\n",
    "#### - fc bayern munich has the highest average overall rated players"
   ]
  },
  {
   "cell_type": "markdown",
   "metadata": {},
   "source": [
    "# Building a linear regression model on outfield players data"
   ]
  },
  {
   "cell_type": "code",
   "execution_count": 39,
   "metadata": {},
   "outputs": [],
   "source": [
    "x= fifa_OP.drop(['short_name','value_eur','nationality','league_name','club_name','international_reputation','weak_foot','skill_moves','real_face','release_clause_eur',\n",
    "                 'team_position','team_jersey_number','loaned_from','player_positions','preferred_foot','work_rate','body_type','joined','loaned_status','height_cm','weight_kg',\n",
    "                 'mentality_composure','defending_standing_tackle'], axis = 1) \n",
    "y = fifa_OP['value_eur'] # Target"
   ]
  },
  {
   "cell_type": "code",
   "execution_count": 40,
   "metadata": {},
   "outputs": [],
   "source": [
    "from sklearn.model_selection import train_test_split\n",
    "\n",
    "\n",
    "x_train, x_test, y_train, y_test = train_test_split(x,\n",
    "                                                    y,\n",
    "                                                    test_size = 0.3)"
   ]
  },
  {
   "cell_type": "code",
   "execution_count": 41,
   "metadata": {},
   "outputs": [
    {
     "name": "stdout",
     "output_type": "stream",
     "text": [
      "(11666, 64) (5000, 64) (11666,) (5000,)\n"
     ]
    }
   ],
   "source": [
    "print(x_train.shape, x_test.shape, y_train.shape, y_test.shape)"
   ]
  },
  {
   "cell_type": "code",
   "execution_count": 42,
   "metadata": {},
   "outputs": [
    {
     "data": {
      "text/plain": [
       "LinearRegression()"
      ]
     },
     "execution_count": 42,
     "metadata": {},
     "output_type": "execute_result"
    }
   ],
   "source": [
    "from sklearn.linear_model import LinearRegression\n",
    "\n",
    "lm = LinearRegression()\n",
    "\n",
    "lm.fit(x_train, y_train)"
   ]
  },
  {
   "cell_type": "code",
   "execution_count": 43,
   "metadata": {},
   "outputs": [
    {
     "data": {
      "text/plain": [
       "array([3237428.28100392,  881305.78656235, 8648267.55369818, ...,\n",
       "       -104900.37622544, 1340776.79302931, 7332916.79154262])"
      ]
     },
     "execution_count": 43,
     "metadata": {},
     "output_type": "execute_result"
    }
   ],
   "source": [
    "y_pred = lm.predict(x_test)\n",
    "y_pred"
   ]
  },
  {
   "cell_type": "code",
   "execution_count": 44,
   "metadata": {},
   "outputs": [],
   "source": [
    "from sklearn.metrics import  mean_absolute_error, r2_score, accuracy_score"
   ]
  },
  {
   "cell_type": "code",
   "execution_count": 45,
   "metadata": {},
   "outputs": [
    {
     "name": "stdout",
     "output_type": "stream",
     "text": [
      "Evaluation(training data) R^2: 0.7745296299257192\n",
      "Actual Evaluation(testing data) R^2: 0.7529097228632877\n"
     ]
    }
   ],
   "source": [
    "y_train_pred = lm.predict(x_train)\n",
    "print('Evaluation(training data) R^2:', r2_score(y_train, y_train_pred))\n",
    "\n",
    "y_pred = lm.predict(x_test)\n",
    "print('Actual Evaluation(testing data) R^2:', r2_score(y_test, y_pred))"
   ]
  },
  {
   "cell_type": "code",
   "execution_count": 46,
   "metadata": {},
   "outputs": [
    {
     "name": "stdout",
     "output_type": "stream",
     "text": [
      "Evaluation(training data) mean_absolute_error: 1272418.1969314527\n",
      "Actual Evaluation(testing data) mean_absolute_error: 1309152.096139248\n"
     ]
    }
   ],
   "source": [
    "y_train_pred = lm.predict(x_train)\n",
    "print('Evaluation(training data) mean_absolute_error:', mean_absolute_error(y_train, y_train_pred))\n",
    "\n",
    "y_pred = lm.predict(x_test)\n",
    "print('Actual Evaluation(testing data) mean_absolute_error:', mean_absolute_error(y_test, y_pred))"
   ]
  },
  {
   "cell_type": "code",
   "execution_count": 47,
   "metadata": {},
   "outputs": [
    {
     "data": {
      "text/html": [
       "<div>\n",
       "<style scoped>\n",
       "    .dataframe tbody tr th:only-of-type {\n",
       "        vertical-align: middle;\n",
       "    }\n",
       "\n",
       "    .dataframe tbody tr th {\n",
       "        vertical-align: top;\n",
       "    }\n",
       "\n",
       "    .dataframe thead th {\n",
       "        text-align: right;\n",
       "    }\n",
       "</style>\n",
       "<table border=\"1\" class=\"dataframe\">\n",
       "  <thead>\n",
       "    <tr style=\"text-align: right;\">\n",
       "      <th></th>\n",
       "      <th>Coefficient</th>\n",
       "    </tr>\n",
       "  </thead>\n",
       "  <tbody>\n",
       "    <tr>\n",
       "      <th>age</th>\n",
       "      <td>-169241.287134</td>\n",
       "    </tr>\n",
       "    <tr>\n",
       "      <th>league_rank</th>\n",
       "      <td>68080.003951</td>\n",
       "    </tr>\n",
       "    <tr>\n",
       "      <th>overall</th>\n",
       "      <td>244872.892790</td>\n",
       "    </tr>\n",
       "    <tr>\n",
       "      <th>potential</th>\n",
       "      <td>14312.879448</td>\n",
       "    </tr>\n",
       "    <tr>\n",
       "      <th>wage_eur</th>\n",
       "      <td>171.242663</td>\n",
       "    </tr>\n",
       "    <tr>\n",
       "      <th>contract_valid_until</th>\n",
       "      <td>111320.086358</td>\n",
       "    </tr>\n",
       "    <tr>\n",
       "      <th>pace</th>\n",
       "      <td>-7804.372563</td>\n",
       "    </tr>\n",
       "    <tr>\n",
       "      <th>shooting</th>\n",
       "      <td>-14856.316221</td>\n",
       "    </tr>\n",
       "    <tr>\n",
       "      <th>passing</th>\n",
       "      <td>-72876.779032</td>\n",
       "    </tr>\n",
       "    <tr>\n",
       "      <th>dribbling</th>\n",
       "      <td>29944.253107</td>\n",
       "    </tr>\n",
       "    <tr>\n",
       "      <th>defending</th>\n",
       "      <td>-35625.727795</td>\n",
       "    </tr>\n",
       "    <tr>\n",
       "      <th>physic</th>\n",
       "      <td>59680.312884</td>\n",
       "    </tr>\n",
       "    <tr>\n",
       "      <th>attacking_crossing</th>\n",
       "      <td>8843.060071</td>\n",
       "    </tr>\n",
       "    <tr>\n",
       "      <th>attacking_finishing</th>\n",
       "      <td>2319.673954</td>\n",
       "    </tr>\n",
       "    <tr>\n",
       "      <th>attacking_heading_accuracy</th>\n",
       "      <td>-23039.067442</td>\n",
       "    </tr>\n",
       "    <tr>\n",
       "      <th>attacking_short_passing</th>\n",
       "      <td>33509.168980</td>\n",
       "    </tr>\n",
       "    <tr>\n",
       "      <th>attacking_volleys</th>\n",
       "      <td>8227.624508</td>\n",
       "    </tr>\n",
       "    <tr>\n",
       "      <th>skill_dribbling</th>\n",
       "      <td>-35927.924016</td>\n",
       "    </tr>\n",
       "    <tr>\n",
       "      <th>skill_curve</th>\n",
       "      <td>5516.399146</td>\n",
       "    </tr>\n",
       "    <tr>\n",
       "      <th>skill_fk_accuracy</th>\n",
       "      <td>3923.555916</td>\n",
       "    </tr>\n",
       "    <tr>\n",
       "      <th>skill_long_passing</th>\n",
       "      <td>23956.074581</td>\n",
       "    </tr>\n",
       "    <tr>\n",
       "      <th>skill_ball_control</th>\n",
       "      <td>-48733.888344</td>\n",
       "    </tr>\n",
       "    <tr>\n",
       "      <th>movement_acceleration</th>\n",
       "      <td>-999.291912</td>\n",
       "    </tr>\n",
       "    <tr>\n",
       "      <th>movement_sprint_speed</th>\n",
       "      <td>6100.891531</td>\n",
       "    </tr>\n",
       "    <tr>\n",
       "      <th>movement_agility</th>\n",
       "      <td>-19121.488724</td>\n",
       "    </tr>\n",
       "    <tr>\n",
       "      <th>movement_reactions</th>\n",
       "      <td>24537.164420</td>\n",
       "    </tr>\n",
       "    <tr>\n",
       "      <th>movement_balance</th>\n",
       "      <td>7146.127444</td>\n",
       "    </tr>\n",
       "    <tr>\n",
       "      <th>power_shot_power</th>\n",
       "      <td>-12424.416330</td>\n",
       "    </tr>\n",
       "    <tr>\n",
       "      <th>power_jumping</th>\n",
       "      <td>-6527.549339</td>\n",
       "    </tr>\n",
       "    <tr>\n",
       "      <th>power_stamina</th>\n",
       "      <td>1505.670044</td>\n",
       "    </tr>\n",
       "    <tr>\n",
       "      <th>power_strength</th>\n",
       "      <td>-29640.749545</td>\n",
       "    </tr>\n",
       "    <tr>\n",
       "      <th>power_long_shots</th>\n",
       "      <td>-2459.735209</td>\n",
       "    </tr>\n",
       "    <tr>\n",
       "      <th>mentality_aggression</th>\n",
       "      <td>-24164.112432</td>\n",
       "    </tr>\n",
       "    <tr>\n",
       "      <th>mentality_interceptions</th>\n",
       "      <td>6045.633836</td>\n",
       "    </tr>\n",
       "    <tr>\n",
       "      <th>mentality_positioning</th>\n",
       "      <td>-5275.793561</td>\n",
       "    </tr>\n",
       "    <tr>\n",
       "      <th>mentality_vision</th>\n",
       "      <td>28065.544165</td>\n",
       "    </tr>\n",
       "    <tr>\n",
       "      <th>mentality_penalties</th>\n",
       "      <td>-2691.098630</td>\n",
       "    </tr>\n",
       "    <tr>\n",
       "      <th>defending_sliding_tackle</th>\n",
       "      <td>-8289.378752</td>\n",
       "    </tr>\n",
       "    <tr>\n",
       "      <th>ls</th>\n",
       "      <td>-2163.314472</td>\n",
       "    </tr>\n",
       "    <tr>\n",
       "      <th>st</th>\n",
       "      <td>-2163.314472</td>\n",
       "    </tr>\n",
       "    <tr>\n",
       "      <th>rs</th>\n",
       "      <td>-2163.314472</td>\n",
       "    </tr>\n",
       "    <tr>\n",
       "      <th>lw</th>\n",
       "      <td>37483.557115</td>\n",
       "    </tr>\n",
       "    <tr>\n",
       "      <th>lf</th>\n",
       "      <td>40935.519171</td>\n",
       "    </tr>\n",
       "    <tr>\n",
       "      <th>cf</th>\n",
       "      <td>40935.519171</td>\n",
       "    </tr>\n",
       "    <tr>\n",
       "      <th>rf</th>\n",
       "      <td>40935.519171</td>\n",
       "    </tr>\n",
       "    <tr>\n",
       "      <th>rw</th>\n",
       "      <td>37483.557115</td>\n",
       "    </tr>\n",
       "    <tr>\n",
       "      <th>lam</th>\n",
       "      <td>5316.256412</td>\n",
       "    </tr>\n",
       "    <tr>\n",
       "      <th>cam</th>\n",
       "      <td>5316.256412</td>\n",
       "    </tr>\n",
       "    <tr>\n",
       "      <th>ram</th>\n",
       "      <td>5316.256412</td>\n",
       "    </tr>\n",
       "    <tr>\n",
       "      <th>lm</th>\n",
       "      <td>-38509.904904</td>\n",
       "    </tr>\n",
       "    <tr>\n",
       "      <th>lcm</th>\n",
       "      <td>-41079.443656</td>\n",
       "    </tr>\n",
       "    <tr>\n",
       "      <th>cm</th>\n",
       "      <td>-41079.443656</td>\n",
       "    </tr>\n",
       "    <tr>\n",
       "      <th>rcm</th>\n",
       "      <td>-41079.443656</td>\n",
       "    </tr>\n",
       "    <tr>\n",
       "      <th>rm</th>\n",
       "      <td>-38509.904904</td>\n",
       "    </tr>\n",
       "    <tr>\n",
       "      <th>lwb</th>\n",
       "      <td>-50775.171289</td>\n",
       "    </tr>\n",
       "    <tr>\n",
       "      <th>ldm</th>\n",
       "      <td>22888.747160</td>\n",
       "    </tr>\n",
       "    <tr>\n",
       "      <th>cdm</th>\n",
       "      <td>22888.747160</td>\n",
       "    </tr>\n",
       "    <tr>\n",
       "      <th>rdm</th>\n",
       "      <td>22888.747160</td>\n",
       "    </tr>\n",
       "    <tr>\n",
       "      <th>rwb</th>\n",
       "      <td>-50775.171289</td>\n",
       "    </tr>\n",
       "    <tr>\n",
       "      <th>lb</th>\n",
       "      <td>46335.702694</td>\n",
       "    </tr>\n",
       "    <tr>\n",
       "      <th>lcb</th>\n",
       "      <td>7550.154827</td>\n",
       "    </tr>\n",
       "    <tr>\n",
       "      <th>cb</th>\n",
       "      <td>7550.154827</td>\n",
       "    </tr>\n",
       "    <tr>\n",
       "      <th>rcb</th>\n",
       "      <td>7550.154827</td>\n",
       "    </tr>\n",
       "    <tr>\n",
       "      <th>rb</th>\n",
       "      <td>46335.702694</td>\n",
       "    </tr>\n",
       "  </tbody>\n",
       "</table>\n",
       "</div>"
      ],
      "text/plain": [
       "                              Coefficient\n",
       "age                        -169241.287134\n",
       "league_rank                  68080.003951\n",
       "overall                     244872.892790\n",
       "potential                    14312.879448\n",
       "wage_eur                       171.242663\n",
       "contract_valid_until        111320.086358\n",
       "pace                         -7804.372563\n",
       "shooting                    -14856.316221\n",
       "passing                     -72876.779032\n",
       "dribbling                    29944.253107\n",
       "defending                   -35625.727795\n",
       "physic                       59680.312884\n",
       "attacking_crossing            8843.060071\n",
       "attacking_finishing           2319.673954\n",
       "attacking_heading_accuracy  -23039.067442\n",
       "attacking_short_passing      33509.168980\n",
       "attacking_volleys             8227.624508\n",
       "skill_dribbling             -35927.924016\n",
       "skill_curve                   5516.399146\n",
       "skill_fk_accuracy             3923.555916\n",
       "skill_long_passing           23956.074581\n",
       "skill_ball_control          -48733.888344\n",
       "movement_acceleration         -999.291912\n",
       "movement_sprint_speed         6100.891531\n",
       "movement_agility            -19121.488724\n",
       "movement_reactions           24537.164420\n",
       "movement_balance              7146.127444\n",
       "power_shot_power            -12424.416330\n",
       "power_jumping                -6527.549339\n",
       "power_stamina                 1505.670044\n",
       "power_strength              -29640.749545\n",
       "power_long_shots             -2459.735209\n",
       "mentality_aggression        -24164.112432\n",
       "mentality_interceptions       6045.633836\n",
       "mentality_positioning        -5275.793561\n",
       "mentality_vision             28065.544165\n",
       "mentality_penalties          -2691.098630\n",
       "defending_sliding_tackle     -8289.378752\n",
       "ls                           -2163.314472\n",
       "st                           -2163.314472\n",
       "rs                           -2163.314472\n",
       "lw                           37483.557115\n",
       "lf                           40935.519171\n",
       "cf                           40935.519171\n",
       "rf                           40935.519171\n",
       "rw                           37483.557115\n",
       "lam                           5316.256412\n",
       "cam                           5316.256412\n",
       "ram                           5316.256412\n",
       "lm                          -38509.904904\n",
       "lcm                         -41079.443656\n",
       "cm                          -41079.443656\n",
       "rcm                         -41079.443656\n",
       "rm                          -38509.904904\n",
       "lwb                         -50775.171289\n",
       "ldm                          22888.747160\n",
       "cdm                          22888.747160\n",
       "rdm                          22888.747160\n",
       "rwb                         -50775.171289\n",
       "lb                           46335.702694\n",
       "lcb                           7550.154827\n",
       "cb                            7550.154827\n",
       "rcb                           7550.154827\n",
       "rb                           46335.702694"
      ]
     },
     "execution_count": 47,
     "metadata": {},
     "output_type": "execute_result"
    }
   ],
   "source": [
    "coeff_df = pd.DataFrame(lm.coef_, x.columns, columns=['Coefficient'])\n",
    "pd.set_option('display.max_rows', coeff_df.shape[0]+1)\n",
    "coeff_df"
   ]
  },
  {
   "cell_type": "markdown",
   "metadata": {},
   "source": [
    "# Building a linear regression model on goalkeepers data"
   ]
  },
  {
   "cell_type": "code",
   "execution_count": 48,
   "metadata": {},
   "outputs": [],
   "source": [
    "p = fifa_GK.drop(['short_name','value_eur','nationality','league_name','club_name','international_reputation','weak_foot','skill_moves','real_face','release_clause_eur',\n",
    "                 'team_position','team_jersey_number','loaned_from','player_positions','preferred_foot','work_rate','body_type','joined','loaned_status','height_cm','weight_kg',\n",
    "                 'mentality_composure','defending_standing_tackle'], axis = 1) \n",
    "q = fifa_GK['value_eur'] # Target"
   ]
  },
  {
   "cell_type": "code",
   "execution_count": 49,
   "metadata": {},
   "outputs": [],
   "source": [
    "p_train, p_test, q_train, q_test = train_test_split(p,\n",
    "                                                    q,\n",
    "                                                    test_size = 0.2)"
   ]
  },
  {
   "cell_type": "code",
   "execution_count": 50,
   "metadata": {},
   "outputs": [
    {
     "data": {
      "text/plain": [
       "LinearRegression()"
      ]
     },
     "execution_count": 50,
     "metadata": {},
     "output_type": "execute_result"
    }
   ],
   "source": [
    "lm_1 = LinearRegression()\n",
    "\n",
    "lm_1.fit(p_train, q_train)"
   ]
  },
  {
   "cell_type": "code",
   "execution_count": 51,
   "metadata": {},
   "outputs": [
    {
     "data": {
      "text/plain": [
       "array([-6.54698925e+05,  5.34645142e+06,  3.95892971e+05,  7.44659805e+06,\n",
       "        2.99138977e+06,  2.06183700e+06, -1.51178405e+05,  9.40473655e+05,\n",
       "       -7.77444488e+05,  1.36344851e+07,  4.11535624e+06, -9.62745015e+05,\n",
       "       -1.60681156e+06,  1.25175542e+06,  5.69293946e+05, -3.70235775e+05,\n",
       "        1.87873655e+06,  1.07759619e+06,  3.30751474e+05,  1.67743794e+06,\n",
       "        2.89515771e+06, -9.08075214e+05,  2.40432334e+06,  3.03283778e+06,\n",
       "        3.90871323e+06, -9.00629805e+05,  3.15727947e+06,  1.51503742e+06,\n",
       "        2.07711508e+06,  3.17420086e+05,  1.36226952e+06, -1.45510176e+06,\n",
       "        1.12791017e+06,  1.31206852e+06,  1.17745452e+07,  3.00804432e+05,\n",
       "       -8.79244288e+05,  1.00591955e+07, -3.96293952e+05,  1.55491875e+06,\n",
       "        8.37443342e+04, -8.61076482e+05,  1.44119555e+06,  1.04721586e+06,\n",
       "        1.01514741e+07, -6.20161404e+05,  9.70530835e+06, -4.06731000e+05,\n",
       "        4.11049687e+05,  1.16592669e+07, -1.33846325e+06,  1.16945358e+06,\n",
       "       -5.39006664e+05,  2.57960359e+05,  2.43103477e+05,  4.72132440e+05,\n",
       "       -1.15710842e+06,  1.07779060e+07,  3.17304809e+06,  6.00041588e+05,\n",
       "        7.94268343e+05,  2.09127968e+05,  7.54515225e+05,  1.96671796e+06,\n",
       "        2.35263695e+06,  7.77716167e+05, -4.95721496e+05, -4.70810556e+05,\n",
       "       -1.29634177e+05,  1.68800857e+06,  9.54001776e+06,  6.24068472e+06,\n",
       "       -8.71379891e+05,  1.46245692e+05, -3.20490781e+05,  1.19534456e+06,\n",
       "        4.85226886e+05,  4.67002154e+05,  1.38746521e+06,  1.32925251e+06,\n",
       "        1.74027368e+04,  4.71330444e+05,  8.31365140e+05, -1.13766590e+06,\n",
       "       -7.64261025e+05, -8.48319359e+05,  1.24320017e+06,  1.19814972e+07,\n",
       "        8.81075482e+05,  4.24798491e+05,  1.40637503e+04,  4.65972151e+05,\n",
       "        1.46635680e+06,  1.41788947e+07,  4.46983692e+04,  6.53898324e+05,\n",
       "        7.04189350e+05,  9.50413972e+06,  5.91681777e+05,  2.08369224e+06,\n",
       "        5.55454192e+06,  7.49915778e+05, -1.91771072e+06,  9.08306009e+05,\n",
       "       -1.08342757e+06,  7.90922048e+05,  9.40440302e+05,  5.53314171e+05,\n",
       "        2.13488046e+06, -7.39978773e+05,  4.50314875e+05, -2.63642346e+05,\n",
       "        1.47100269e+05,  7.60806587e+06,  9.78001245e+05,  1.23715081e+06,\n",
       "       -3.51120671e+05,  2.69055673e+05,  3.51136675e+06, -9.82770977e+05,\n",
       "        7.72066587e+05,  9.23552216e+05,  3.34074115e+06, -5.20771057e+05,\n",
       "        1.05607814e+06, -3.53895730e+05,  2.04102348e+05,  6.10490871e+06,\n",
       "        1.91275022e+04, -5.63335102e+05,  6.64519595e+05,  9.43912380e+06,\n",
       "        5.36896735e+06, -2.41301452e+05,  1.47761861e+06,  1.12568786e+06,\n",
       "        3.25634636e+06,  4.50124503e+05,  3.99952869e+06,  5.94869446e+05,\n",
       "        1.47602109e+06, -4.20978280e+05,  1.77878266e+06,  8.05089106e+05,\n",
       "        8.83270674e+04, -1.98157397e+05,  8.44248684e+05,  6.21882902e+06,\n",
       "        1.01907262e+06,  3.12381473e+06,  4.98840777e+06, -1.00468885e+06,\n",
       "        5.80736362e+06,  1.75461429e+06, -6.21767707e+04, -3.56753787e+05,\n",
       "       -4.53588141e+05,  1.00288325e+06,  2.44244740e+06,  3.16932083e+06,\n",
       "        2.27137579e+06, -1.11606333e+06, -8.85110769e+05,  1.42632244e+05,\n",
       "        2.18997778e+05,  1.24339719e+05, -1.51440354e+06,  2.91636264e+06,\n",
       "        7.02162967e+05,  5.01200676e+05, -8.69154194e+05, -1.16336107e+06,\n",
       "        5.73576384e+05,  8.63047331e+05,  2.63324365e+06,  4.01605887e+06,\n",
       "       -7.30174095e+04,  4.41340097e+05,  3.59160070e+06, -1.17962031e+06,\n",
       "        9.93038820e+04, -1.38122765e+06,  9.57123985e+05,  6.26766581e+06,\n",
       "       -1.07637060e+06,  7.74089938e+05, -1.91004289e+05,  4.77102829e+05,\n",
       "        1.40065957e+06,  3.39911546e+06,  1.10227204e+06,  2.37891114e+07,\n",
       "        2.98735248e+06,  1.97931011e+06, -2.33294617e+05,  9.65718888e+05,\n",
       "        1.11966966e+06,  7.26818809e+04,  5.08756888e+05,  9.94150987e+05,\n",
       "       -1.56849923e+05, -4.67335587e+03, -1.17028634e+06,  6.32665156e+06,\n",
       "        4.03162838e+06,  1.24252604e+07, -2.14299016e+05, -7.59699413e+04,\n",
       "       -1.20813932e+06,  8.16668531e+05,  3.92738044e+06, -3.42084683e+04,\n",
       "        7.12186876e+06,  1.52946885e+06,  1.82353023e+05, -7.41476035e+05,\n",
       "        1.46204337e+06, -1.08222988e+06,  1.76867070e+06,  1.92659622e+06,\n",
       "        1.98351326e+06,  4.18797846e+06,  8.07411378e+06,  3.26497736e+06,\n",
       "       -1.17628692e+05,  4.27129398e+05,  2.35245939e+05,  8.47860263e+05,\n",
       "        2.46910223e+05,  6.43910237e+06, -4.47237415e+05, -8.94217344e+05,\n",
       "        3.15251915e+06,  9.10468078e+05,  1.60492815e+06, -5.84907451e+05,\n",
       "        1.21480634e+07,  3.54616201e+06, -1.86636660e+05, -4.18297889e+05,\n",
       "        6.98412270e+05,  2.15282735e+06,  1.87419707e+06, -7.13477157e+04,\n",
       "       -6.65171819e+05,  6.98478107e+05, -3.14194218e+05,  7.06140128e+05,\n",
       "        5.07658518e+05, -1.03563829e+06, -1.39478939e+06, -1.88887568e+06,\n",
       "        9.68716849e+05, -2.02656821e+05,  1.17603513e+06, -2.38512905e+06,\n",
       "        1.63684614e+05, -1.17743657e+06,  3.40260179e+05, -1.14441253e+06,\n",
       "       -1.37640433e+04,  2.84700385e+05, -5.90233814e+05,  3.15734654e+05,\n",
       "       -2.93258032e+05,  4.68067836e+06,  8.83550968e+05,  4.22915525e+06,\n",
       "       -1.24796401e+06, -7.58316889e+05,  1.58057930e+06,  2.75823625e+05,\n",
       "        8.47441152e+05,  2.92794752e+06,  2.73155367e+06, -4.24638966e+05,\n",
       "       -2.43135532e+06, -1.28749169e+06,  9.97233398e+05,  2.48199669e+05,\n",
       "        6.45403396e+06, -4.96391917e+05,  8.29556033e+05,  1.86519707e+05,\n",
       "       -9.24450325e+05,  2.69177192e+05,  1.14684008e+06,  1.13905796e+06,\n",
       "        1.83521495e+06,  5.54617150e+05,  8.01560235e+05, -8.42566447e+05,\n",
       "        3.02836799e+04,  2.36572568e+06,  5.00638259e+05,  8.56915193e+05,\n",
       "       -7.98819300e+05,  1.76015742e+05, -4.18520017e+05,  2.32080702e+06,\n",
       "        1.83016296e+06, -2.64584623e+04,  1.11187773e+06,  2.09929823e+05,\n",
       "        1.03224612e+06,  1.04367769e+06,  2.08626174e+07, -5.51013309e+05,\n",
       "        4.69807672e+06,  4.87740915e+06,  2.04526212e+05,  1.31718327e+06,\n",
       "       -2.56886266e+05, -5.92263375e+05, -1.85204098e+06, -6.62360617e+05,\n",
       "        3.31530398e+06,  1.50068436e+05,  1.07684939e+07,  5.40825301e+05,\n",
       "       -2.41915949e+05,  1.61101513e+05,  9.12520612e+05,  1.64416619e+06,\n",
       "        4.22032458e+06,  1.45927857e+06, -2.09836074e+05,  2.76086559e+06,\n",
       "        1.03164914e+06,  5.67473279e+06,  1.31498820e+06,  2.06026857e+06,\n",
       "       -4.53737289e+05, -9.19347842e+05, -2.00129143e+06, -1.52380942e+06,\n",
       "       -2.57300293e+05,  1.44091527e+06, -8.04370551e+05,  1.36305130e+06,\n",
       "       -1.87769155e+06, -4.05201886e+04,  3.22614678e+03,  8.00643539e+06,\n",
       "        6.77315730e+05,  5.78464809e+04, -5.92848649e+05,  7.84999574e+05,\n",
       "        1.61015909e+06,  1.26518143e+06, -6.27433357e+05, -1.11318418e+06,\n",
       "        2.76728696e+06, -8.06270298e+05,  1.85134482e+06,  1.47429526e+06,\n",
       "        2.14451209e+06,  4.24277577e+06,  2.30616703e+06,  1.15321451e+07,\n",
       "       -5.35215798e+05, -8.55322890e+05,  4.11676699e+04,  1.41780518e+06,\n",
       "       -2.84443492e+06,  7.57111629e+04, -1.15998310e+06,  3.78114377e+05,\n",
       "       -8.02702205e+05, -1.33666673e+05,  9.13895963e+05, -7.64086039e+05,\n",
       "       -7.94861457e+05,  5.78592820e+05, -5.98185427e+05, -1.19286266e+06,\n",
       "        1.21755070e+07, -1.05789627e+06, -1.46389203e+06, -1.42195087e+05,\n",
       "        5.17923187e+06,  3.94112640e+05,  5.57021896e+05, -1.47067083e+04,\n",
       "       -3.03905771e+05, -4.61263730e+05,  2.11448648e+05,  5.13121650e+05,\n",
       "        1.01981554e+06,  1.29285044e+06, -5.53759893e+05,  1.41954712e+06,\n",
       "       -9.51993143e+05,  1.67842644e+06,  5.69267115e+06,  2.38249951e+06,\n",
       "        3.07081053e+06, -6.48435640e+05,  4.69198258e+04,  2.64682687e+06,\n",
       "        1.60090938e+06,  1.84767489e+07,  3.16546753e+07, -8.46064320e+05,\n",
       "        1.11202061e+06,  9.77890435e+05,  2.06230974e+06, -2.21750763e+06,\n",
       "        1.05936753e+07,  5.22520536e+06,  1.12022541e+06])"
      ]
     },
     "execution_count": 51,
     "metadata": {},
     "output_type": "execute_result"
    }
   ],
   "source": [
    "q_pred = lm_1.predict(p_test)\n",
    "q_pred"
   ]
  },
  {
   "cell_type": "code",
   "execution_count": 52,
   "metadata": {},
   "outputs": [
    {
     "name": "stdout",
     "output_type": "stream",
     "text": [
      "Evaluation(training data) R^2: 0.7961511236182253\n",
      "Actual Evaluation(testing data) R^2: 0.578506809040546\n"
     ]
    }
   ],
   "source": [
    "q_train_pred = lm_1.predict(p_train)\n",
    "print('Evaluation(training data) R^2:', r2_score(q_train, q_train_pred))\n",
    "\n",
    "q_pred = lm_1.predict(p_test)\n",
    "print('Actual Evaluation(testing data) R^2:', r2_score(q_test, q_pred))"
   ]
  },
  {
   "cell_type": "code",
   "execution_count": 53,
   "metadata": {},
   "outputs": [
    {
     "name": "stdout",
     "output_type": "stream",
     "text": [
      "Evaluation(training data) mean_absolute_error: 1162687.2481823405\n",
      "Actual Evaluation(testing data) mean_absolute_error: 1170134.1187484628\n"
     ]
    }
   ],
   "source": [
    "q_train_pred = lm_1.predict(p_train)\n",
    "print('Evaluation(training data) mean_absolute_error:', mean_absolute_error(q_train, q_train_pred))\n",
    "\n",
    "q_pred = lm_1.predict(p_test)\n",
    "print('Actual Evaluation(testing data) mean_absolute_error:', mean_absolute_error(q_test, q_pred))"
   ]
  },
  {
   "cell_type": "code",
   "execution_count": 54,
   "metadata": {},
   "outputs": [
    {
     "data": {
      "text/html": [
       "<div>\n",
       "<style scoped>\n",
       "    .dataframe tbody tr th:only-of-type {\n",
       "        vertical-align: middle;\n",
       "    }\n",
       "\n",
       "    .dataframe tbody tr th {\n",
       "        vertical-align: top;\n",
       "    }\n",
       "\n",
       "    .dataframe thead th {\n",
       "        text-align: right;\n",
       "    }\n",
       "</style>\n",
       "<table border=\"1\" class=\"dataframe\">\n",
       "  <thead>\n",
       "    <tr style=\"text-align: right;\">\n",
       "      <th></th>\n",
       "      <th>Coefficient</th>\n",
       "    </tr>\n",
       "  </thead>\n",
       "  <tbody>\n",
       "    <tr>\n",
       "      <th>age</th>\n",
       "      <td>-183488.990154</td>\n",
       "    </tr>\n",
       "    <tr>\n",
       "      <th>league_rank</th>\n",
       "      <td>85377.076806</td>\n",
       "    </tr>\n",
       "    <tr>\n",
       "      <th>overall</th>\n",
       "      <td>574076.367869</td>\n",
       "    </tr>\n",
       "    <tr>\n",
       "      <th>potential</th>\n",
       "      <td>-30808.796438</td>\n",
       "    </tr>\n",
       "    <tr>\n",
       "      <th>wage_eur</th>\n",
       "      <td>231.436675</td>\n",
       "    </tr>\n",
       "    <tr>\n",
       "      <th>contract_valid_until</th>\n",
       "      <td>42786.895368</td>\n",
       "    </tr>\n",
       "    <tr>\n",
       "      <th>gk_diving</th>\n",
       "      <td>-50288.611959</td>\n",
       "    </tr>\n",
       "    <tr>\n",
       "      <th>gk_handling</th>\n",
       "      <td>-22057.861919</td>\n",
       "    </tr>\n",
       "    <tr>\n",
       "      <th>gk_kicking</th>\n",
       "      <td>51387.957027</td>\n",
       "    </tr>\n",
       "    <tr>\n",
       "      <th>gk_reflexes</th>\n",
       "      <td>-50035.420997</td>\n",
       "    </tr>\n",
       "    <tr>\n",
       "      <th>gk_speed</th>\n",
       "      <td>-302447.962983</td>\n",
       "    </tr>\n",
       "    <tr>\n",
       "      <th>gk_positioning</th>\n",
       "      <td>-40727.494296</td>\n",
       "    </tr>\n",
       "    <tr>\n",
       "      <th>attacking_crossing</th>\n",
       "      <td>-40211.487832</td>\n",
       "    </tr>\n",
       "    <tr>\n",
       "      <th>attacking_finishing</th>\n",
       "      <td>-79659.951187</td>\n",
       "    </tr>\n",
       "    <tr>\n",
       "      <th>attacking_heading_accuracy</th>\n",
       "      <td>-29968.835512</td>\n",
       "    </tr>\n",
       "    <tr>\n",
       "      <th>attacking_short_passing</th>\n",
       "      <td>-38376.593853</td>\n",
       "    </tr>\n",
       "    <tr>\n",
       "      <th>attacking_volleys</th>\n",
       "      <td>10545.388033</td>\n",
       "    </tr>\n",
       "    <tr>\n",
       "      <th>skill_dribbling</th>\n",
       "      <td>-33327.081094</td>\n",
       "    </tr>\n",
       "    <tr>\n",
       "      <th>skill_curve</th>\n",
       "      <td>25539.728834</td>\n",
       "    </tr>\n",
       "    <tr>\n",
       "      <th>skill_fk_accuracy</th>\n",
       "      <td>-21584.671765</td>\n",
       "    </tr>\n",
       "    <tr>\n",
       "      <th>skill_long_passing</th>\n",
       "      <td>14697.275291</td>\n",
       "    </tr>\n",
       "    <tr>\n",
       "      <th>skill_ball_control</th>\n",
       "      <td>-86298.811064</td>\n",
       "    </tr>\n",
       "    <tr>\n",
       "      <th>movement_acceleration</th>\n",
       "      <td>82817.173589</td>\n",
       "    </tr>\n",
       "    <tr>\n",
       "      <th>movement_sprint_speed</th>\n",
       "      <td>127405.681875</td>\n",
       "    </tr>\n",
       "    <tr>\n",
       "      <th>movement_agility</th>\n",
       "      <td>-1835.733665</td>\n",
       "    </tr>\n",
       "    <tr>\n",
       "      <th>movement_reactions</th>\n",
       "      <td>-87521.874446</td>\n",
       "    </tr>\n",
       "    <tr>\n",
       "      <th>movement_balance</th>\n",
       "      <td>12948.244035</td>\n",
       "    </tr>\n",
       "    <tr>\n",
       "      <th>power_shot_power</th>\n",
       "      <td>-178901.543958</td>\n",
       "    </tr>\n",
       "    <tr>\n",
       "      <th>power_jumping</th>\n",
       "      <td>-3364.895067</td>\n",
       "    </tr>\n",
       "    <tr>\n",
       "      <th>power_stamina</th>\n",
       "      <td>-8712.472648</td>\n",
       "    </tr>\n",
       "    <tr>\n",
       "      <th>power_strength</th>\n",
       "      <td>2878.005168</td>\n",
       "    </tr>\n",
       "    <tr>\n",
       "      <th>power_long_shots</th>\n",
       "      <td>-22651.839805</td>\n",
       "    </tr>\n",
       "    <tr>\n",
       "      <th>mentality_aggression</th>\n",
       "      <td>11166.651320</td>\n",
       "    </tr>\n",
       "    <tr>\n",
       "      <th>mentality_interceptions</th>\n",
       "      <td>-37655.629636</td>\n",
       "    </tr>\n",
       "    <tr>\n",
       "      <th>mentality_positioning</th>\n",
       "      <td>-36356.865726</td>\n",
       "    </tr>\n",
       "    <tr>\n",
       "      <th>mentality_vision</th>\n",
       "      <td>-13160.831435</td>\n",
       "    </tr>\n",
       "    <tr>\n",
       "      <th>mentality_penalties</th>\n",
       "      <td>-35521.192392</td>\n",
       "    </tr>\n",
       "    <tr>\n",
       "      <th>defending_sliding_tackle</th>\n",
       "      <td>-3757.544154</td>\n",
       "    </tr>\n",
       "    <tr>\n",
       "      <th>goalkeeping_diving</th>\n",
       "      <td>-50288.611959</td>\n",
       "    </tr>\n",
       "    <tr>\n",
       "      <th>goalkeeping_handling</th>\n",
       "      <td>-22057.861919</td>\n",
       "    </tr>\n",
       "    <tr>\n",
       "      <th>goalkeeping_kicking</th>\n",
       "      <td>51387.957027</td>\n",
       "    </tr>\n",
       "    <tr>\n",
       "      <th>goalkeeping_positioning</th>\n",
       "      <td>-40727.494296</td>\n",
       "    </tr>\n",
       "    <tr>\n",
       "      <th>goalkeeping_reflexes</th>\n",
       "      <td>-50035.420997</td>\n",
       "    </tr>\n",
       "    <tr>\n",
       "      <th>ls</th>\n",
       "      <td>64045.805859</td>\n",
       "    </tr>\n",
       "    <tr>\n",
       "      <th>st</th>\n",
       "      <td>64045.805859</td>\n",
       "    </tr>\n",
       "    <tr>\n",
       "      <th>rs</th>\n",
       "      <td>64045.805859</td>\n",
       "    </tr>\n",
       "    <tr>\n",
       "      <th>lw</th>\n",
       "      <td>86726.923872</td>\n",
       "    </tr>\n",
       "    <tr>\n",
       "      <th>lf</th>\n",
       "      <td>10109.195171</td>\n",
       "    </tr>\n",
       "    <tr>\n",
       "      <th>cf</th>\n",
       "      <td>10109.195171</td>\n",
       "    </tr>\n",
       "    <tr>\n",
       "      <th>rf</th>\n",
       "      <td>10109.195171</td>\n",
       "    </tr>\n",
       "    <tr>\n",
       "      <th>rw</th>\n",
       "      <td>86726.923872</td>\n",
       "    </tr>\n",
       "    <tr>\n",
       "      <th>lam</th>\n",
       "      <td>58184.199265</td>\n",
       "    </tr>\n",
       "    <tr>\n",
       "      <th>cam</th>\n",
       "      <td>58184.199265</td>\n",
       "    </tr>\n",
       "    <tr>\n",
       "      <th>ram</th>\n",
       "      <td>58184.199265</td>\n",
       "    </tr>\n",
       "    <tr>\n",
       "      <th>lm</th>\n",
       "      <td>5393.189139</td>\n",
       "    </tr>\n",
       "    <tr>\n",
       "      <th>lcm</th>\n",
       "      <td>-29451.640448</td>\n",
       "    </tr>\n",
       "    <tr>\n",
       "      <th>cm</th>\n",
       "      <td>-29451.640448</td>\n",
       "    </tr>\n",
       "    <tr>\n",
       "      <th>rcm</th>\n",
       "      <td>-29451.640448</td>\n",
       "    </tr>\n",
       "    <tr>\n",
       "      <th>rm</th>\n",
       "      <td>5393.189139</td>\n",
       "    </tr>\n",
       "    <tr>\n",
       "      <th>lwb</th>\n",
       "      <td>123010.305310</td>\n",
       "    </tr>\n",
       "    <tr>\n",
       "      <th>ldm</th>\n",
       "      <td>-62535.040771</td>\n",
       "    </tr>\n",
       "    <tr>\n",
       "      <th>cdm</th>\n",
       "      <td>-62535.040771</td>\n",
       "    </tr>\n",
       "    <tr>\n",
       "      <th>rdm</th>\n",
       "      <td>-62535.040771</td>\n",
       "    </tr>\n",
       "    <tr>\n",
       "      <th>rwb</th>\n",
       "      <td>123010.305310</td>\n",
       "    </tr>\n",
       "    <tr>\n",
       "      <th>lb</th>\n",
       "      <td>16605.360389</td>\n",
       "    </tr>\n",
       "    <tr>\n",
       "      <th>lcb</th>\n",
       "      <td>11991.939672</td>\n",
       "    </tr>\n",
       "    <tr>\n",
       "      <th>cb</th>\n",
       "      <td>11991.939672</td>\n",
       "    </tr>\n",
       "    <tr>\n",
       "      <th>rcb</th>\n",
       "      <td>11991.939672</td>\n",
       "    </tr>\n",
       "    <tr>\n",
       "      <th>rb</th>\n",
       "      <td>16605.360389</td>\n",
       "    </tr>\n",
       "  </tbody>\n",
       "</table>\n",
       "</div>"
      ],
      "text/plain": [
       "                              Coefficient\n",
       "age                        -183488.990154\n",
       "league_rank                  85377.076806\n",
       "overall                     574076.367869\n",
       "potential                   -30808.796438\n",
       "wage_eur                       231.436675\n",
       "contract_valid_until         42786.895368\n",
       "gk_diving                   -50288.611959\n",
       "gk_handling                 -22057.861919\n",
       "gk_kicking                   51387.957027\n",
       "gk_reflexes                 -50035.420997\n",
       "gk_speed                   -302447.962983\n",
       "gk_positioning              -40727.494296\n",
       "attacking_crossing          -40211.487832\n",
       "attacking_finishing         -79659.951187\n",
       "attacking_heading_accuracy  -29968.835512\n",
       "attacking_short_passing     -38376.593853\n",
       "attacking_volleys            10545.388033\n",
       "skill_dribbling             -33327.081094\n",
       "skill_curve                  25539.728834\n",
       "skill_fk_accuracy           -21584.671765\n",
       "skill_long_passing           14697.275291\n",
       "skill_ball_control          -86298.811064\n",
       "movement_acceleration        82817.173589\n",
       "movement_sprint_speed       127405.681875\n",
       "movement_agility             -1835.733665\n",
       "movement_reactions          -87521.874446\n",
       "movement_balance             12948.244035\n",
       "power_shot_power           -178901.543958\n",
       "power_jumping                -3364.895067\n",
       "power_stamina                -8712.472648\n",
       "power_strength                2878.005168\n",
       "power_long_shots            -22651.839805\n",
       "mentality_aggression         11166.651320\n",
       "mentality_interceptions     -37655.629636\n",
       "mentality_positioning       -36356.865726\n",
       "mentality_vision            -13160.831435\n",
       "mentality_penalties         -35521.192392\n",
       "defending_sliding_tackle     -3757.544154\n",
       "goalkeeping_diving          -50288.611959\n",
       "goalkeeping_handling        -22057.861919\n",
       "goalkeeping_kicking          51387.957027\n",
       "goalkeeping_positioning     -40727.494296\n",
       "goalkeeping_reflexes        -50035.420997\n",
       "ls                           64045.805859\n",
       "st                           64045.805859\n",
       "rs                           64045.805859\n",
       "lw                           86726.923872\n",
       "lf                           10109.195171\n",
       "cf                           10109.195171\n",
       "rf                           10109.195171\n",
       "rw                           86726.923872\n",
       "lam                          58184.199265\n",
       "cam                          58184.199265\n",
       "ram                          58184.199265\n",
       "lm                            5393.189139\n",
       "lcm                         -29451.640448\n",
       "cm                          -29451.640448\n",
       "rcm                         -29451.640448\n",
       "rm                            5393.189139\n",
       "lwb                         123010.305310\n",
       "ldm                         -62535.040771\n",
       "cdm                         -62535.040771\n",
       "rdm                         -62535.040771\n",
       "rwb                         123010.305310\n",
       "lb                           16605.360389\n",
       "lcb                          11991.939672\n",
       "cb                           11991.939672\n",
       "rcb                          11991.939672\n",
       "rb                           16605.360389"
      ]
     },
     "execution_count": 54,
     "metadata": {},
     "output_type": "execute_result"
    }
   ],
   "source": [
    "coeff_df_1 = pd.DataFrame(lm_1.coef_, p.columns, columns=['Coefficient'])\n",
    "pd.set_option('display.max_rows', coeff_df_1.shape[0]+1)\n",
    "coeff_df_1"
   ]
  }
 ],
 "metadata": {
  "kernelspec": {
   "display_name": "Python 3",
   "language": "python",
   "name": "python3"
  },
  "language_info": {
   "codemirror_mode": {
    "name": "ipython",
    "version": 3
   },
   "file_extension": ".py",
   "mimetype": "text/x-python",
   "name": "python",
   "nbconvert_exporter": "python",
   "pygments_lexer": "ipython3",
   "version": "3.8.5"
  }
 },
 "nbformat": 4,
 "nbformat_minor": 4
}
